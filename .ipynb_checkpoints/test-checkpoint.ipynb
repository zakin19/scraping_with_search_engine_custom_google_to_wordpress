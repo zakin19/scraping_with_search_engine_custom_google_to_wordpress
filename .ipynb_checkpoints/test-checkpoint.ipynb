{
 "cells": [
  {
   "cell_type": "code",
   "execution_count": 3,
   "id": "1a2be1ae",
   "metadata": {},
   "outputs": [],
   "source": [
    "import requests\n",
    "from selenium import webdriver\n",
    "from bs4 import BeautifulSoup\n",
    "from webdriver_manager.chrome import ChromeDriverManager\n",
    "from selenium.webdriver.common.by import By\n",
    "from selenium.webdriver.common.keys import Keys\n",
    "from selenium.webdriver.chrome.service import Service\n",
    "import json\n",
    "import time\n",
    "import openai\n",
    "import re\n",
    "import os\n",
    "from retry import retry\n",
    "import retrying\n",
    "import ast\n",
    "import base64\n",
    "import schedule\n",
    "from schedule import every, repeat, run_pending"
   ]
  },
  {
   "cell_type": "code",
   "execution_count": 15,
   "id": "e815e04b",
   "metadata": {},
   "outputs": [
    {
     "name": "stdout",
     "output_type": "stream",
     "text": [
      "error\n"
     ]
    }
   ],
   "source": [
    "def portal_scraping(show_more_count):\n",
    "    keyword = \"ai\"\n",
    "    url = 'https://www.cxnetwork.com/'\n",
    "    service = Service('chromedriver.exe')\n",
    "    options = webdriver.ChromeOptions()\n",
    "#     options.add_argument('--headless')  # Menjalankan browser dalam mode headless (tanpa tampilan GUI)\n",
    "    driver = webdriver.Chrome(service=service, options=options)  \n",
    "    driver.get(url+\"search/?q=\"+keyword)\n",
    "\n",
    "    # Fungsi Untuk Menentukan Berapa Kali Menekan Tombol \"Show More\" Sesuai Dengan Keinginan User\n",
    "    def click_show_more():\n",
    "        try:\n",
    "            elem = driver.find_element(By.CSS_SELECTOR, \"span[class='semibold']\")\n",
    "            elem.click()\n",
    "            time.sleep(20)\n",
    "        except:\n",
    "            print(\"error\")\n",
    "\n",
    "    for i in range(show_more_count):\n",
    "        click_show_more()\n",
    "\n",
    "    driver.find_element(By.CSS_SELECTOR, 'body').send_keys(Keys.CONTROL, Keys.END)\n",
    "    time.sleep(1)\n",
    "\n",
    "    raw_html = driver.find_element(By.TAG_NAME, 'body').get_attribute('innerHTML')\n",
    "    driver.close()\n",
    "\n",
    "    soup_html = BeautifulSoup(raw_html, \"html.parser\")\n",
    "    # Membuat Variabel Yang digunakan Untuk Menyimpan URL Yang Berhasil discraping\n",
    "    portal = []\n",
    "\n",
    "    containers = soup_html.findAll('div', attrs={'class':'mt-2 ml-3 mr-3'})\n",
    "    for container in containers:\n",
    "        link = container.findAll('p')\n",
    "        for links in link:\n",
    "            url = links.findAll('a')\n",
    "            for urls in url:\n",
    "                href = urls.get('href')\n",
    "                portal.append(href)\n",
    "\n",
    "    return portal\n",
    "\n",
    "portal = portal_scraping(1)"
   ]
  },
  {
   "cell_type": "code",
   "execution_count": 16,
   "id": "25667724",
   "metadata": {},
   "outputs": [
    {
     "name": "stdout",
     "output_type": "stream",
     "text": [
      "/content-hub/callminer-content-hub\n",
      "/content-hub/cx-network-chatbots-ai-content-hub\n",
      "/content-hub/omnichannel-content-hub\n",
      "/content-hub/global-state-of-customer-experience-series\n",
      "/content-hub/epsilon-content-hub\n",
      "/content-hub/evolving-to-transform-customer-experiences\n",
      "/content-hub/medallia-content-hub\n",
      "/content-hub/calabrio-content-hub\n",
      "/content-hub/inmoment-content-hub\n",
      "/content-hub/sprinkr-content-hub\n",
      "/contact-center/articles/three-times-apac-brands-have-succeeded-in-their-omnichannel-goals\n",
      "/cx-service-support/articles/exploring-the-possibilities-of-generative-ai-in-customer-experience\n",
      "/cx-service-support/articles/how-to-leverage-ai-in-the-contact-center\n",
      "/cx-service-support/articles/the-11-customer-service-skills-you-need-to-succeed-in-any-industry\n",
      "/cx-experience/interviews/why-ai-and-teamwork-are-the-future-of-experience-management\n",
      "/cx-experience/how-to-guides/a-step-by-step-guide-to-building-customer-loyalty\n",
      "/cx-digital/articles/4-ways-ai-is-changing-cx-in-ecommerce\n",
      "/generative-ai/articles/how-to-unlock-automation-in-cx\n",
      "/cx-experience/articles/spotlight-on-ai-and-diversity-at-the-2023-ccw-excellence-awards\n",
      "/cx-experience/articles/3-ways-to-ensure-your-contact-center-is-transforming-for-the-future\n"
     ]
    }
   ],
   "source": [
    "for i in portal :\n",
    "    print(i)"
   ]
  },
  {
   "cell_type": "code",
   "execution_count": 18,
   "id": "890ba6b0",
   "metadata": {},
   "outputs": [],
   "source": [
    "def portal_scraping(show_more_count):\n",
    "    keyword = \"ai\"\n",
    "    url = 'https://www.cxnetwork.com/'\n",
    "    service = Service('chromedriver.exe')\n",
    "    options = webdriver.ChromeOptions()\n",
    "#     options.add_argument('--headless')  # Menjalankan browser dalam mode headless (tanpa tampilan GUI)\n",
    "    driver = webdriver.Chrome(service=service, options=options)  \n",
    "    driver.get(url+\"search/?q=\"+keyword)\n",
    "\n",
    "    # Fungsi Untuk Menentukan Berapa Kali Menekan Tombol \"Show More\" Sesuai Dengan Keinginan User\n",
    "    def click_show_more():\n",
    "        driver.find_element(By.CSS_SELECTOR, 'body').send_keys(Keys.CONTROL, Keys.END)\n",
    "        time.sleep(3)\n",
    "        try:\n",
    "            elem = driver.find_element(By.CSS_SELECTOR, \"span[class='semibold']\")\n",
    "            elem.click()\n",
    "            time.sleep(15)\n",
    "        except:\n",
    "            print(\"error\")\n",
    "\n",
    "    for i in range(int(show_more_count)):\n",
    "        click_show_more()\n",
    "\n",
    "    driver.find_element(By.CSS_SELECTOR, 'body').send_keys(Keys.CONTROL, Keys.END)\n",
    "    time.sleep(1)\n",
    "\n",
    "    raw_html = driver.find_element(By.TAG_NAME, 'body').get_attribute('innerHTML')\n",
    "    driver.close()\n",
    "\n",
    "    soup_html = BeautifulSoup(raw_html, \"html.parser\")\n",
    "    # Membuat Variabel Yang digunakan Untuk Menyimpan URL Yang Berhasil discraping\n",
    "    portal = []\n",
    "\n",
    "    containers = soup_html.findAll('div', attrs={'class':'mt-2 ml-3 mr-3'})\n",
    "    for container in containers:\n",
    "        link = container.findAll('p')\n",
    "        for links in link:\n",
    "            url = links.findAll('a')\n",
    "            for urls in url:\n",
    "                href = urls.get('href')\n",
    "                portal.append(href)\n",
    "\n",
    "    return portal\n",
    "portal = portal_scraping(3)"
   ]
  },
  {
   "cell_type": "code",
   "execution_count": 19,
   "id": "faa87e4c",
   "metadata": {},
   "outputs": [
    {
     "data": {
      "text/plain": [
       "['/content-hub/callminer-content-hub',\n",
       " '/content-hub/cx-network-chatbots-ai-content-hub',\n",
       " '/content-hub/omnichannel-content-hub',\n",
       " '/content-hub/global-state-of-customer-experience-series',\n",
       " '/content-hub/epsilon-content-hub',\n",
       " '/content-hub/evolving-to-transform-customer-experiences',\n",
       " '/content-hub/medallia-content-hub',\n",
       " '/content-hub/calabrio-content-hub',\n",
       " '/content-hub/inmoment-content-hub',\n",
       " '/content-hub/sprinkr-content-hub',\n",
       " '/contact-center/articles/three-times-apac-brands-have-succeeded-in-their-omnichannel-goals',\n",
       " '/cx-service-support/articles/exploring-the-possibilities-of-generative-ai-in-customer-experience',\n",
       " '/cx-service-support/articles/how-to-leverage-ai-in-the-contact-center',\n",
       " '/cx-service-support/articles/the-11-customer-service-skills-you-need-to-succeed-in-any-industry',\n",
       " '/cx-experience/interviews/why-ai-and-teamwork-are-the-future-of-experience-management',\n",
       " '/cx-experience/how-to-guides/a-step-by-step-guide-to-building-customer-loyalty',\n",
       " '/cx-digital/articles/4-ways-ai-is-changing-cx-in-ecommerce',\n",
       " '/generative-ai/articles/how-to-unlock-automation-in-cx',\n",
       " '/cx-experience/articles/spotlight-on-ai-and-diversity-at-the-2023-ccw-excellence-awards',\n",
       " '/cx-experience/articles/3-ways-to-ensure-your-contact-center-is-transforming-for-the-future',\n",
       " '/cx-experience/articles/how-retail-brands-across-asia-pacific-are-enhancing-customer-loyalty',\n",
       " '/cx-digital/whitepapers/4-ways-to-get-started-with-generative-ai-in-customer-support',\n",
       " '/cx-digital/whitepapers/contact-center-playbook-emerging-resilient-and-future-ready-in-uncertain-times',\n",
       " '/voice-of-the-customer/whitepapers/3-steps-to-transform-your-customer-experience-with-ai-driven-insights',\n",
       " '/cx-experience/articles/4-ways-ai-is-set-to-change-contact-centers',\n",
       " '/omnichannel/how-to-guides/the-cx-network-guide-to-social-shopping',\n",
       " '/cx-experience/articles/how-apac-brands-are-using-ai-to-improve-cx',\n",
       " '/cx-experience/articles/the-6-biggest-trends-influencing-customer-loyalty-in-2023',\n",
       " '/omnichannel/whitepapers/reimagining-omnichannel-cx-in-the-age-of-ai',\n",
       " '/cx-experience/articles/top-fashion-brands-share-their-advice-on-digital-cx-and-sustainability',\n",
       " '/cx-experience/reports/global-state-of-cx-customer-experience',\n",
       " '/cx-experience/interviews/making-travel-personal-for-customers-in-2023',\n",
       " '/omnichannel/articles/3-lessons-in-channel-management-from-customer-communications-2023',\n",
       " '/journey-mapping/articles/the-a-z-of-creating-modern-customer-personas',\n",
       " '/cx-digital/articles/how-digital-first-cx-drives-engagement-and-loyalty',\n",
       " '/cx-retail/articles/how-superdrug-is-digitalizing-its-omnichannel-retail-experience',\n",
       " '/cx-experience/articles/5-trends-apac-brands-are-building-their-cx-strategies-around',\n",
       " '/cx-technology/articles/duolingo-and-be-my-eyes-are-revolutionizing-cx-with-chatgpt',\n",
       " '/cx-experience/whitepapers/making-the-case-for-cx-in-times-of-uncertainty',\n",
       " '/cx-experience/articles/why-economic-uncertainty-is-a-problem-for-cx-in-2023',\n",
       " '/journey-mapping/interviews/the-secrets-to-customer-journey-mapping-success-with-jim-tincher',\n",
       " '/omnichannel/articles/4-organizations-that-took-chatbots-to-the-next-level',\n",
       " '/cx-digital/how-to-guides/customer-experience-in-the-metaverse-a-cx-network-guide',\n",
       " '/cx-digital/reports/cx-re-imagined-seamless-intelligent-and-immersive',\n",
       " '/cx-employee-engagement/how-to-guides/the-cx-network-guide-to-employee-experience',\n",
       " '/cx-telecoms/interviews/can-cx-help-to-double-your-revenue-zen-internets-cx-director-explains',\n",
       " '/cx-experience/reports/the-ultimate-guide-to-mastering-chatbots',\n",
       " '/cx-digital/articles/experts-insights-on-digital-customer-experience-to-capitalize-digital-transformation',\n",
       " '/cx-experience/articles/experts-insights-on-channel-integration-in-cx',\n",
       " '/cx-service-support/articles/smart-customer-experience-investments-buyers-perspective']"
      ]
     },
     "execution_count": 19,
     "metadata": {},
     "output_type": "execute_result"
    }
   ],
   "source": [
    "portal"
   ]
  },
  {
   "cell_type": "code",
   "execution_count": 20,
   "id": "50133e80",
   "metadata": {},
   "outputs": [
    {
     "name": "stdout",
     "output_type": "stream",
     "text": [
      "/content-hub/callminer-content-hub\n",
      "/content-hub/cx-network-chatbots-ai-content-hub\n",
      "/content-hub/omnichannel-content-hub\n",
      "/content-hub/global-state-of-customer-experience-series\n",
      "/content-hub/epsilon-content-hub\n",
      "/content-hub/evolving-to-transform-customer-experiences\n",
      "/content-hub/medallia-content-hub\n",
      "/content-hub/calabrio-content-hub\n",
      "/content-hub/inmoment-content-hub\n",
      "/content-hub/sprinkr-content-hub\n",
      "/contact-center/articles/three-times-apac-brands-have-succeeded-in-their-omnichannel-goals\n",
      "/cx-service-support/articles/exploring-the-possibilities-of-generative-ai-in-customer-experience\n",
      "/cx-service-support/articles/how-to-leverage-ai-in-the-contact-center\n",
      "/cx-service-support/articles/the-11-customer-service-skills-you-need-to-succeed-in-any-industry\n",
      "/cx-experience/interviews/why-ai-and-teamwork-are-the-future-of-experience-management\n",
      "/cx-experience/how-to-guides/a-step-by-step-guide-to-building-customer-loyalty\n",
      "/cx-digital/articles/4-ways-ai-is-changing-cx-in-ecommerce\n",
      "/generative-ai/articles/how-to-unlock-automation-in-cx\n",
      "/cx-experience/articles/spotlight-on-ai-and-diversity-at-the-2023-ccw-excellence-awards\n",
      "/cx-experience/articles/3-ways-to-ensure-your-contact-center-is-transforming-for-the-future\n",
      "/cx-experience/articles/how-retail-brands-across-asia-pacific-are-enhancing-customer-loyalty\n",
      "/cx-digital/whitepapers/4-ways-to-get-started-with-generative-ai-in-customer-support\n",
      "/cx-digital/whitepapers/contact-center-playbook-emerging-resilient-and-future-ready-in-uncertain-times\n",
      "/voice-of-the-customer/whitepapers/3-steps-to-transform-your-customer-experience-with-ai-driven-insights\n",
      "/cx-experience/articles/4-ways-ai-is-set-to-change-contact-centers\n",
      "/omnichannel/how-to-guides/the-cx-network-guide-to-social-shopping\n",
      "/cx-experience/articles/how-apac-brands-are-using-ai-to-improve-cx\n",
      "/cx-experience/articles/the-6-biggest-trends-influencing-customer-loyalty-in-2023\n",
      "/omnichannel/whitepapers/reimagining-omnichannel-cx-in-the-age-of-ai\n",
      "/cx-experience/articles/top-fashion-brands-share-their-advice-on-digital-cx-and-sustainability\n",
      "/cx-experience/reports/global-state-of-cx-customer-experience\n",
      "/cx-experience/interviews/making-travel-personal-for-customers-in-2023\n",
      "/omnichannel/articles/3-lessons-in-channel-management-from-customer-communications-2023\n",
      "/journey-mapping/articles/the-a-z-of-creating-modern-customer-personas\n",
      "/cx-digital/articles/how-digital-first-cx-drives-engagement-and-loyalty\n",
      "/cx-retail/articles/how-superdrug-is-digitalizing-its-omnichannel-retail-experience\n",
      "/cx-experience/articles/5-trends-apac-brands-are-building-their-cx-strategies-around\n",
      "/cx-technology/articles/duolingo-and-be-my-eyes-are-revolutionizing-cx-with-chatgpt\n",
      "/cx-experience/whitepapers/making-the-case-for-cx-in-times-of-uncertainty\n",
      "/cx-experience/articles/why-economic-uncertainty-is-a-problem-for-cx-in-2023\n",
      "/journey-mapping/interviews/the-secrets-to-customer-journey-mapping-success-with-jim-tincher\n",
      "/omnichannel/articles/4-organizations-that-took-chatbots-to-the-next-level\n",
      "/cx-digital/how-to-guides/customer-experience-in-the-metaverse-a-cx-network-guide\n",
      "/cx-digital/reports/cx-re-imagined-seamless-intelligent-and-immersive\n",
      "/cx-employee-engagement/how-to-guides/the-cx-network-guide-to-employee-experience\n",
      "/cx-telecoms/interviews/can-cx-help-to-double-your-revenue-zen-internets-cx-director-explains\n",
      "/cx-experience/reports/the-ultimate-guide-to-mastering-chatbots\n",
      "/cx-digital/articles/experts-insights-on-digital-customer-experience-to-capitalize-digital-transformation\n",
      "/cx-experience/articles/experts-insights-on-channel-integration-in-cx\n",
      "/cx-service-support/articles/smart-customer-experience-investments-buyers-perspective\n"
     ]
    }
   ],
   "source": [
    "for i in portal :\n",
    "    print(i)"
   ]
  },
  {
   "cell_type": "code",
   "execution_count": 21,
   "id": "a9d246fc",
   "metadata": {},
   "outputs": [
    {
     "name": "stdout",
     "output_type": "stream",
     "text": [
      "String 1\n",
      "String 2\n",
      "String 3\n",
      "String 4\n"
     ]
    }
   ],
   "source": [
    "# Definisikan list dengan beberapa string\n",
    "daftar_string = [\"String 1\", \"String 2\", \"String 3\", \"String 4\"]\n",
    "\n",
    "# Menggunakan loop for untuk mengambil string secara bergiliran\n",
    "for string in daftar_string:\n",
    "    print(string)\n"
   ]
  },
  {
   "cell_type": "code",
   "execution_count": 12,
   "id": "74f5b50c",
   "metadata": {},
   "outputs": [
    {
     "name": "stdout",
     "output_type": "stream",
     "text": [
      "Jumlah token dalam teks: 12\n"
     ]
    }
   ],
   "source": [
    "import nltk\n",
    "from nltk.tokenize import word_tokenize\n",
    "\n",
    "text = \"Ini adalah contoh kalimat. Hitung jumlah token dalam kalimat ini.\"\n",
    "tokens = word_tokenize(text)\n",
    "jumlah_token = len(tokens)\n",
    "\n",
    "print(\"Jumlah token dalam teks:\", jumlah_token)"
   ]
  },
  {
   "cell_type": "code",
   "execution_count": 14,
   "id": "7be51422",
   "metadata": {},
   "outputs": [
    {
     "name": "stdout",
     "output_type": "stream",
     "text": [
      "10\n"
     ]
    }
   ],
   "source": [
    "text = \"Ini adalah contoh kalimat. Hitung jumlah token dalam kalimat ini.\"\n",
    "\n",
    "tokens = text.split(\" \")\n",
    "\n",
    "print(len(tokens))"
   ]
  },
  {
   "cell_type": "code",
   "execution_count": 15,
   "id": "b0489ba3",
   "metadata": {},
   "outputs": [
    {
     "name": "stdout",
     "output_type": "stream",
     "text": [
      "Imagine a digital artwork that depicts a vast network of interconnected data nodes, resembling a futuristic cityscape. The nodes are pulsating with vibrant colors, representing the vast amount of data collected by Facebook through WhatsApp and Instagram. The composition is dynamic, with data streams flowing between the nodes, symbolizing the transfer of information. The artwork is set against a backdrop of a starry night sky, creating a sense of wonder and intrigue. The overall mood is futuristic and technologically advanced.\n"
     ]
    }
   ],
   "source": [
    "import re\n",
    "\n",
    "# String input\n",
    "prompt = \"Sure! Here are three prompts based on the description you provided:\\n\\nPrompt 1:\\nImagine a digital artwork that depicts a vast network of interconnected data nodes, resembling a futuristic cityscape. The nodes are pulsating with vibrant colors, representing the vast amount of data collected by Facebook through WhatsApp and Instagram. The composition is dynamic, with data streams flowing between the nodes, symbolizing the transfer of information. The artwork is set against a backdrop of a starry night sky, creating a sense of wonder and intrigue. The overall mood is futuristic and technologically advanced.\\n\\nPrompt 2:\\nVisualize a scene where a person is standing in the middle of a crowded city square, surrounded by giant screens displaying various images and messages. Each screen represents a different aspect of Facebook's data collection and privacy policies on WhatsApp and Instagram. Some screens show people sharing personal information, while others display targeted advertisements based on user data. The person in the center appears overwhelmed and concerned, reflecting the potential invasion of privacy. The lighting is harsh and artificial, emphasizing the surveillance-like atmosphere.\\n\\nPrompt 3:\\nEnvision an illustration that portrays a serene garden with blooming flowers and lush greenery. In the center of the garden, there is a massive tree with branches spreading out in all directions. Each branch represents a different aspect of Facebook's data collection and privacy policies on WhatsApp and Instagram. Some branches are vibrant and healthy, symbolizing transparent and ethical data practices, while others are withered and tangled, representing questionable privacy policies. The garden is bathed in soft, warm sunlight, creating a peaceful and inviting ambiance.\\n\\nPlease select one of the prompts using the [pX] command, where X is the number of the selected prompt.\"\n",
    "\n",
    "# Gunakan regex untuk mencari string antara \"Prompt 1\" dan \"Prompt 2\"\n",
    "result = re.search(r'Prompt 1:(.*?)Prompt 2:', prompt, re.DOTALL)\n",
    "\n",
    "if result:\n",
    "    string_antara_prompt1_dan_prompt2 = result.group(1).strip()\n",
    "    print(string_antara_prompt1_dan_prompt2)\n",
    "else:\n",
    "    print(\"Tidak ada yang cocok\")\n"
   ]
  },
  {
   "cell_type": "code",
   "execution_count": 1,
   "id": "bb3919d9",
   "metadata": {},
   "outputs": [],
   "source": [
    "import re\n",
    "prompt = \"Sure! Here are three prompts based on the description you provided:\\n\\nPrompt 1:\\nImagine a digital artwork that depicts a vast network of interconnected data nodes, resembling a futuristic cityscape. The nodes are pulsating with vibrant colors, representing the vast amount of data collected by Facebook through WhatsApp and Instagram. The composition is dynamic, with data streams flowing between the nodes, symbolizing the transfer of information. The artwork is set against a backdrop of a starry night sky, creating a sense of wonder and intrigue. The overall mood is futuristic and technologically advanced.\\n\\nPrompt 2:\\nVisualize a scene where a person is standing in the middle of a crowded city square, surrounded by giant screens displaying various images and messages. Each screen represents a different aspect of Facebook's data collection and privacy policies on WhatsApp and Instagram. Some screens show people sharing personal information, while others display targeted advertisements based on user data. The person in the center appears overwhelmed and concerned, reflecting the potential invasion of privacy. The lighting is harsh and artificial, emphasizing the surveillance-like atmosphere.\\n\\nPrompt 3:\\nEnvision an illustration that portrays a serene garden with blooming flowers and lush greenery. In the center of the garden, there is a massive tree with branches spreading out in all directions. Each branch represents a different aspect of Facebook's data collection and privacy policies on WhatsApp and Instagram. Some branches are vibrant and healthy, symbolizing transparent and ethical data practices, while others are withered and tangled, representing questionable privacy policies. The garden is bathed in soft, warm sunlight, creating a peaceful and inviting ambiance.\\n\\nPlease select one of the prompts using the [pX] command, where X is the number of the selected prompt.\"\n",
    "\n",
    "def check_and_process_text(text):\n",
    "    if \"Please provide a description\" in text:\n",
    "        print(\"Hasil tidak sesuai: Teks mengandung 'please provide a description'\")\n",
    "#         save_url=saveurl()\n",
    "#         store_scrapped_url(save_url)\n",
    "#         print(\"ulangi...\")\n",
    "#         full_program_run()\n",
    "#         print(\"berhasil mengulangi..\")\n",
    "        return None\n",
    "    \n",
    "    pattern = r\"1\\.(.*?)2\\.\"\n",
    "    # jika antara 1 dan 2\n",
    "    matches = re.findall(pattern, text, re.DOTALL)\n",
    "    # jika antara prompt 1 dan prompt 2\n",
    "    result = re.search(r'Prompt 1:(.*?)Prompt 2:', text, re.DOTALL)\n",
    "\n",
    "\n",
    "    if matches:\n",
    "        extracted_text = matches[0].strip()\n",
    "        extracted_text = re.sub(r'Prompt:', '', extracted_text)\n",
    "        extracted_text = re.sub(r'Prompt 1:', '', extracted_text)\n",
    "        extracted_text = re.sub(r'Image Description:', '', extracted_text)\n",
    "        extracted_text = re.sub(r'Choose this prompt by entering [p1].', '', extracted_text)\n",
    "        print(\"1\")\n",
    "        return extracted_text\n",
    "    elif result:\n",
    "        string_antara_prompt1_dan_prompt2 = result.group(1).strip()\n",
    "        string_antara_prompt1_dan_prompt2 = re.sub(r'Image Description:', '', string_antara_prompt1_dan_prompt2)\n",
    "        string_antara_prompt1_dan_prompt2 = re.sub(r'Choose this prompt by entering [p1].', '', string_antara_prompt1_dan_prompt2)\n",
    "        print(\"2\")\n",
    "        return string_antara_prompt1_dan_prompt2\n",
    "    else:\n",
    "        print(\"Hasil tidak sesuai: Tidak ditemukan teks antara '1.' dan '2.'\")\n",
    "        return None"
   ]
  },
  {
   "cell_type": "code",
   "execution_count": 2,
   "id": "36aff05f",
   "metadata": {},
   "outputs": [
    {
     "name": "stdout",
     "output_type": "stream",
     "text": [
      "2\n",
      "Imagine a digital artwork that depicts a vast network of interconnected data nodes, resembling a futuristic cityscape. The nodes are pulsating with vibrant colors, representing the vast amount of data collected by Facebook through WhatsApp and Instagram. The composition is dynamic, with data streams flowing between the nodes, symbolizing the transfer of information. The artwork is set against a backdrop of a starry night sky, creating a sense of wonder and intrigue. The overall mood is futuristic and technologically advanced.\n"
     ]
    }
   ],
   "source": [
    "processed_text = check_and_process_text(prompt)\n",
    "print(processed_text)"
   ]
  },
  {
   "cell_type": "code",
   "execution_count": 15,
   "id": "07978cd0",
   "metadata": {},
   "outputs": [
    {
     "name": "stdout",
     "output_type": "stream",
     "text": [
      "Kesalahan: Kegagalan\n",
      "Fungsi utama gagal\n",
      "Fungsi alternatif dijalankan\n"
     ]
    }
   ],
   "source": [
    "from retry import retry\n",
    "import random\n",
    "\n",
    "# Fungsi utama dengan retry\n",
    "@retry(Exception, tries=3, delay=1)\n",
    "def fungsi_utama():\n",
    "    try:\n",
    "        # Kode yang mungkin mengalami kegagalan (contoh: 30% peluang kegagalan)\n",
    "        if random.random() < 10:\n",
    "            raise Exception(\"Kegagalan\")\n",
    "\n",
    "        # Jika berhasil, kembalikan sebuah list\n",
    "        return [1, 2, 3]\n",
    "\n",
    "    except Exception as e:\n",
    "        print(f\"Kesalahan: {str(e)}\")\n",
    "        return None  # Mengembalikan None dalam kasus kesalahan\n",
    "\n",
    "# Fungsi kedua yang akan dijalankan jika fungsi utama gagal\n",
    "def fungsi_alternatif():\n",
    "    print(\"Fungsi alternatif dijalankan\")\n",
    "\n",
    "# Panggil fungsi utama\n",
    "hasil = fungsi_utama()\n",
    "\n",
    "# Periksa hasil\n",
    "if hasil is not None:\n",
    "    print(\"Fungsi utama berhasil\")\n",
    "    print(\"Hasil:\", hasil)\n",
    "else:\n",
    "    print(\"Fungsi utama gagal\")\n",
    "    # Jika fungsi utama gagal, jalankan fungsi alternatif\n",
    "    fungsi_alternatif()\n"
   ]
  },
  {
   "cell_type": "code",
   "execution_count": 36,
   "id": "52b871d8",
   "metadata": {},
   "outputs": [],
   "source": [
    "def cek():\n",
    "    gambar = ['https://pbxt.replicate.delivery/KGWKIv78I5aQA59gGST9djCu7eSx2126LBTqxcXhwpmsyjxIA/out-0.png']\n",
    "    return gambar"
   ]
  },
  {
   "cell_type": "code",
   "execution_count": 43,
   "id": "31a46624",
   "metadata": {},
   "outputs": [
    {
     "name": "stdout",
     "output_type": "stream",
     "text": [
      "https://pbxt.replicate.delivery/KGWKIv78I5aQA59gGST9djCu7eSx2126LBTqxcXhwpmsyjxIA/out-0.png\n"
     ]
    }
   ],
   "source": [
    "gambar=cek()\n",
    "print(gambar[0])"
   ]
  },
  {
   "cell_type": "code",
   "execution_count": 4,
   "id": "f4bbc5ff",
   "metadata": {},
   "outputs": [
    {
     "name": "stdout",
     "output_type": "stream",
     "text": [
      "Keyword yang dipilih secara acak: code\n",
      "Keyword yang dipilih secara acak: ['Python', 'AI', 'programming']\n"
     ]
    }
   ],
   "source": [
    "import random\n",
    "\n",
    "# List keyword\n",
    "keywords = [\"Python\", \"programming\", \"code\", \"data\", \"AI\", \"machine learning\"]\n",
    "\n",
    "# Memilih satu keyword secara acak\n",
    "random_keyword = random.choice(keywords)\n",
    "print(\"Keyword yang dipilih secara acak:\", random_keyword)\n",
    "\n",
    "# Memilih beberapa keyword secara acak (misalnya, 3 keyword)\n",
    "random_keywords = random.choices(keywords, k=3)\n",
    "print(\"Keyword yang dipilih secara acak:\", random_keywords)\n"
   ]
  },
  {
   "cell_type": "code",
   "execution_count": 5,
   "id": "1f2dd843",
   "metadata": {},
   "outputs": [
    {
     "name": "stdout",
     "output_type": "stream",
     "text": [
      "\u001b[31mHello, World!\u001b[m\n",
      "\u001b[32;43mHello, World!\u001b[m\n",
      "\u001b[1mHello, World!\u001b[m\n"
     ]
    }
   ],
   "source": [
    "# Contoh mengubah teks menjadi merah\n",
    "print(\"\\033[31mHello, World!\\033[m\")\n",
    "\n",
    "# Contoh mengubah teks menjadi hijau dengan latar belakang kuning\n",
    "print(\"\\033[32;43mHello, World!\\033[m\")\n",
    "\n",
    "# Contoh teks tebal\n",
    "print(\"\\033[1mHello, World!\\033[m\")"
   ]
  },
  {
   "cell_type": "code",
   "execution_count": 9,
   "id": "358abe44",
   "metadata": {},
   "outputs": [
    {
     "name": "stdout",
     "output_type": "stream",
     "text": [
      "\u001b[42m\u001b[30m\n",
      "Hasil awal: \n",
      "\u001b[m\n"
     ]
    }
   ],
   "source": [
    "print(\"\\033[42m\\033[30m\\nHasil awal: \\n\\033[m\")"
   ]
  },
  {
   "cell_type": "code",
   "execution_count": 14,
   "id": "f1fc838c",
   "metadata": {},
   "outputs": [
    {
     "ename": "MalformedError",
     "evalue": "Service account info was not in the expected format, missing fields client_email, token_uri.",
     "output_type": "error",
     "traceback": [
      "\u001b[1;31m---------------------------------------------------------------------------\u001b[0m",
      "\u001b[1;31mMalformedError\u001b[0m                            Traceback (most recent call last)",
      "Cell \u001b[1;32mIn[14], line 8\u001b[0m\n\u001b[0;32m      5\u001b[0m credentials_file \u001b[38;5;241m=\u001b[39m \u001b[38;5;124m'\u001b[39m\u001b[38;5;124mcredentials.json\u001b[39m\u001b[38;5;124m'\u001b[39m\n\u001b[0;32m      7\u001b[0m \u001b[38;5;66;03m# Inisialisasi kredensial\u001b[39;00m\n\u001b[1;32m----> 8\u001b[0m credentials \u001b[38;5;241m=\u001b[39m \u001b[43mservice_account\u001b[49m\u001b[38;5;241;43m.\u001b[39;49m\u001b[43mCredentials\u001b[49m\u001b[38;5;241;43m.\u001b[39;49m\u001b[43mfrom_service_account_file\u001b[49m\u001b[43m(\u001b[49m\u001b[43mcredentials_file\u001b[49m\u001b[43m,\u001b[49m\u001b[43m \u001b[49m\u001b[43mscopes\u001b[49m\u001b[38;5;241;43m=\u001b[39;49m\u001b[43m[\u001b[49m\u001b[38;5;124;43m'\u001b[39;49m\u001b[38;5;124;43mhttps://www.googleapis.com/auth/blogger\u001b[39;49m\u001b[38;5;124;43m'\u001b[39;49m\u001b[43m]\u001b[49m\u001b[43m)\u001b[49m\n\u001b[0;32m     10\u001b[0m \u001b[38;5;66;03m# Buat objek Blogger API\u001b[39;00m\n\u001b[0;32m     11\u001b[0m blogger \u001b[38;5;241m=\u001b[39m googleapiclient\u001b[38;5;241m.\u001b[39mdiscovery\u001b[38;5;241m.\u001b[39mbuild(\u001b[38;5;124m'\u001b[39m\u001b[38;5;124mblogger\u001b[39m\u001b[38;5;124m'\u001b[39m, \u001b[38;5;124m'\u001b[39m\u001b[38;5;124mv3\u001b[39m\u001b[38;5;124m'\u001b[39m, credentials\u001b[38;5;241m=\u001b[39mcredentials)\n",
      "File \u001b[1;32m~\\anaconda3\\lib\\site-packages\\google\\oauth2\\service_account.py:260\u001b[0m, in \u001b[0;36mCredentials.from_service_account_file\u001b[1;34m(cls, filename, **kwargs)\u001b[0m\n\u001b[0;32m    248\u001b[0m \u001b[38;5;129m@classmethod\u001b[39m\n\u001b[0;32m    249\u001b[0m \u001b[38;5;28;01mdef\u001b[39;00m \u001b[38;5;21mfrom_service_account_file\u001b[39m(\u001b[38;5;28mcls\u001b[39m, filename, \u001b[38;5;241m*\u001b[39m\u001b[38;5;241m*\u001b[39mkwargs):\n\u001b[0;32m    250\u001b[0m \u001b[38;5;250m    \u001b[39m\u001b[38;5;124;03m\"\"\"Creates a Credentials instance from a service account json file.\u001b[39;00m\n\u001b[0;32m    251\u001b[0m \n\u001b[0;32m    252\u001b[0m \u001b[38;5;124;03m    Args:\u001b[39;00m\n\u001b[1;32m   (...)\u001b[0m\n\u001b[0;32m    258\u001b[0m \u001b[38;5;124;03m            credentials.\u001b[39;00m\n\u001b[0;32m    259\u001b[0m \u001b[38;5;124;03m    \"\"\"\u001b[39;00m\n\u001b[1;32m--> 260\u001b[0m     info, signer \u001b[38;5;241m=\u001b[39m \u001b[43m_service_account_info\u001b[49m\u001b[38;5;241;43m.\u001b[39;49m\u001b[43mfrom_filename\u001b[49m\u001b[43m(\u001b[49m\n\u001b[0;32m    261\u001b[0m \u001b[43m        \u001b[49m\u001b[43mfilename\u001b[49m\u001b[43m,\u001b[49m\u001b[43m \u001b[49m\u001b[43mrequire\u001b[49m\u001b[38;5;241;43m=\u001b[39;49m\u001b[43m[\u001b[49m\u001b[38;5;124;43m\"\u001b[39;49m\u001b[38;5;124;43mclient_email\u001b[39;49m\u001b[38;5;124;43m\"\u001b[39;49m\u001b[43m,\u001b[49m\u001b[43m \u001b[49m\u001b[38;5;124;43m\"\u001b[39;49m\u001b[38;5;124;43mtoken_uri\u001b[39;49m\u001b[38;5;124;43m\"\u001b[39;49m\u001b[43m]\u001b[49m\n\u001b[0;32m    262\u001b[0m \u001b[43m    \u001b[49m\u001b[43m)\u001b[49m\n\u001b[0;32m    263\u001b[0m     \u001b[38;5;28;01mreturn\u001b[39;00m \u001b[38;5;28mcls\u001b[39m\u001b[38;5;241m.\u001b[39m_from_signer_and_info(signer, info, \u001b[38;5;241m*\u001b[39m\u001b[38;5;241m*\u001b[39mkwargs)\n",
      "File \u001b[1;32m~\\anaconda3\\lib\\site-packages\\google\\auth\\_service_account_info.py:82\u001b[0m, in \u001b[0;36mfrom_filename\u001b[1;34m(filename, require, use_rsa_signer)\u001b[0m\n\u001b[0;32m     80\u001b[0m \u001b[38;5;28;01mwith\u001b[39;00m io\u001b[38;5;241m.\u001b[39mopen(filename, \u001b[38;5;124m\"\u001b[39m\u001b[38;5;124mr\u001b[39m\u001b[38;5;124m\"\u001b[39m, encoding\u001b[38;5;241m=\u001b[39m\u001b[38;5;124m\"\u001b[39m\u001b[38;5;124mutf-8\u001b[39m\u001b[38;5;124m\"\u001b[39m) \u001b[38;5;28;01mas\u001b[39;00m json_file:\n\u001b[0;32m     81\u001b[0m     data \u001b[38;5;241m=\u001b[39m json\u001b[38;5;241m.\u001b[39mload(json_file)\n\u001b[1;32m---> 82\u001b[0m     \u001b[38;5;28;01mreturn\u001b[39;00m data, \u001b[43mfrom_dict\u001b[49m\u001b[43m(\u001b[49m\u001b[43mdata\u001b[49m\u001b[43m,\u001b[49m\u001b[43m \u001b[49m\u001b[43mrequire\u001b[49m\u001b[38;5;241;43m=\u001b[39;49m\u001b[43mrequire\u001b[49m\u001b[43m,\u001b[49m\u001b[43m \u001b[49m\u001b[43muse_rsa_signer\u001b[49m\u001b[38;5;241;43m=\u001b[39;49m\u001b[43muse_rsa_signer\u001b[49m\u001b[43m)\u001b[49m\n",
      "File \u001b[1;32m~\\anaconda3\\lib\\site-packages\\google\\auth\\_service_account_info.py:52\u001b[0m, in \u001b[0;36mfrom_dict\u001b[1;34m(data, require, use_rsa_signer)\u001b[0m\n\u001b[0;32m     49\u001b[0m missing \u001b[38;5;241m=\u001b[39m keys_needed\u001b[38;5;241m.\u001b[39mdifference(six\u001b[38;5;241m.\u001b[39miterkeys(data))\n\u001b[0;32m     51\u001b[0m \u001b[38;5;28;01mif\u001b[39;00m missing:\n\u001b[1;32m---> 52\u001b[0m     \u001b[38;5;28;01mraise\u001b[39;00m exceptions\u001b[38;5;241m.\u001b[39mMalformedError(\n\u001b[0;32m     53\u001b[0m         \u001b[38;5;124m\"\u001b[39m\u001b[38;5;124mService account info was not in the expected format, missing \u001b[39m\u001b[38;5;124m\"\u001b[39m\n\u001b[0;32m     54\u001b[0m         \u001b[38;5;124m\"\u001b[39m\u001b[38;5;124mfields \u001b[39m\u001b[38;5;132;01m{}\u001b[39;00m\u001b[38;5;124m.\u001b[39m\u001b[38;5;124m\"\u001b[39m\u001b[38;5;241m.\u001b[39mformat(\u001b[38;5;124m\"\u001b[39m\u001b[38;5;124m, \u001b[39m\u001b[38;5;124m\"\u001b[39m\u001b[38;5;241m.\u001b[39mjoin(missing))\n\u001b[0;32m     55\u001b[0m     )\n\u001b[0;32m     57\u001b[0m \u001b[38;5;66;03m# Create a signer.\u001b[39;00m\n\u001b[0;32m     58\u001b[0m \u001b[38;5;28;01mif\u001b[39;00m use_rsa_signer:\n",
      "\u001b[1;31mMalformedError\u001b[0m: Service account info was not in the expected format, missing fields client_email, token_uri."
     ]
    }
   ],
   "source": [
    "from google.oauth2 import service_account\n",
    "import googleapiclient.discovery\n",
    "\n",
    "# Lokasi file kredensial yang telah Anda unduh dari Google Cloud Console\n",
    "credentials_file = 'credentials.json'\n",
    "\n",
    "# Inisialisasi kredensial\n",
    "credentials = service_account.Credentials.from_service_account_file(credentials_file, scopes=['https://www.googleapis.com/auth/blogger'])\n",
    "\n",
    "# Buat objek Blogger API\n",
    "blogger = googleapiclient.discovery.build('blogger', 'v3', credentials=credentials)\n",
    "\n",
    "# ID Blog yang akan Anda postingkan kontennya\n",
    "blog_id = '4670751031756016402'\n",
    "\n",
    "# Data posting\n",
    "post_data = {\n",
    "    'title': 'Judul Posting',\n",
    "    'content': 'Konten posting Anda di sini.',\n",
    "}\n",
    "\n",
    "# Melakukan posting\n",
    "response = blogger.posts().insert(blogId=blog_id, body=post_data).execute()\n",
    "\n",
    "# Cetak respons\n",
    "print(response)\n"
   ]
  },
  {
   "cell_type": "code",
   "execution_count": null,
   "id": "4860fe14",
   "metadata": {},
   "outputs": [],
   "source": []
  }
 ],
 "metadata": {
  "kernelspec": {
   "display_name": "Python 3 (ipykernel)",
   "language": "python",
   "name": "python3"
  },
  "language_info": {
   "codemirror_mode": {
    "name": "ipython",
    "version": 3
   },
   "file_extension": ".py",
   "mimetype": "text/x-python",
   "name": "python",
   "nbconvert_exporter": "python",
   "pygments_lexer": "ipython3",
   "version": "3.9.12"
  }
 },
 "nbformat": 4,
 "nbformat_minor": 5
}
