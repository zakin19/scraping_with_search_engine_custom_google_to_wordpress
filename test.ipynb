{
 "cells": [
  {
   "cell_type": "code",
   "execution_count": 27,
   "id": "1a2be1ae",
   "metadata": {},
   "outputs": [],
   "source": [
    "import requests\n",
    "from selenium import webdriver\n",
    "from bs4 import BeautifulSoup\n",
    "from webdriver_manager.chrome import ChromeDriverManager\n",
    "from selenium.webdriver.common.by import By\n",
    "from selenium.webdriver.common.keys import Keys\n",
    "from selenium.webdriver.chrome.service import Service\n",
    "import json\n",
    "import time\n",
    "import openai\n",
    "import re\n",
    "import os\n",
    "from retry import retry\n",
    "import retrying\n",
    "import ast\n",
    "import base64\n",
    "import schedule\n",
    "from schedule import every, repeat, run_pending"
   ]
  },
  {
   "cell_type": "code",
   "execution_count": 28,
   "id": "e815e04b",
   "metadata": {},
   "outputs": [
    {
     "name": "stdout",
     "output_type": "stream",
     "text": [
      "error\n"
     ]
    }
   ],
   "source": [
    "def portal_scraping(show_more_count):\n",
    "    keyword = \"ai\"\n",
    "    url = 'https://www.cxnetwork.com/'\n",
    "    service = Service('chromedriver.exe')\n",
    "    options = webdriver.ChromeOptions()\n",
    "#     options.add_argument('--headless')  # Menjalankan browser dalam mode headless (tanpa tampilan GUI)\n",
    "    driver = webdriver.Chrome(service=service, options=options)  \n",
    "    driver.get(url+\"search/?q=\"+keyword)\n",
    "\n",
    "    # Fungsi Untuk Menentukan Berapa Kali Menekan Tombol \"Show More\" Sesuai Dengan Keinginan User\n",
    "    def click_show_more():\n",
    "        try:\n",
    "            elem = driver.find_element(By.CSS_SELECTOR, \"span[class='semibold']\")\n",
    "            elem.click()\n",
    "            time.sleep(20)\n",
    "        except:\n",
    "            print(\"error\")\n",
    "\n",
    "    for i in range(show_more_count):\n",
    "        click_show_more()\n",
    "\n",
    "    driver.find_element(By.CSS_SELECTOR, 'body').send_keys(Keys.CONTROL, Keys.END)\n",
    "    time.sleep(1)\n",
    "\n",
    "    raw_html = driver.find_element(By.TAG_NAME, 'body').get_attribute('innerHTML')\n",
    "    driver.close()\n",
    "\n",
    "    soup_html = BeautifulSoup(raw_html, \"html.parser\")\n",
    "    # Membuat Variabel Yang digunakan Untuk Menyimpan URL Yang Berhasil discraping\n",
    "    portal = []\n",
    "\n",
    "    containers = soup_html.findAll('div', attrs={'class':'mt-2 ml-3 mr-3'})\n",
    "    for container in containers:\n",
    "        link = container.findAll('p')\n",
    "        for links in link:\n",
    "            url = links.findAll('a')\n",
    "            for urls in url:\n",
    "                href = urls.get('href')\n",
    "                portal.append(href)\n",
    "\n",
    "    return portal\n",
    "\n",
    "portal = portal_scraping(1)"
   ]
  },
  {
   "cell_type": "code",
   "execution_count": 29,
   "id": "25667724",
   "metadata": {},
   "outputs": [
    {
     "name": "stdout",
     "output_type": "stream",
     "text": [
      "/content-hub/callminer-content-hub\n",
      "/content-hub/cx-network-chatbots-ai-content-hub\n",
      "/content-hub/omnichannel-content-hub\n",
      "/content-hub/global-state-of-customer-experience-series\n",
      "/content-hub/epsilon-content-hub\n",
      "/content-hub/evolving-to-transform-customer-experiences\n",
      "/content-hub/medallia-content-hub\n",
      "/content-hub/calabrio-content-hub\n",
      "/content-hub/inmoment-content-hub\n",
      "/content-hub/sprinkr-content-hub\n",
      "/artificial-intelligence/articles/7-ways-companies-are-using-generative-ai-in-customer-experience\n",
      "/cx-experience/articles/how-apac-brands-are-future-proofing-their-cx-strategies\n",
      "/artificial-intelligence/articles/the-complete-guide-to-generative-ai-for-customer-experience\n",
      "/artificial-intelligence/whitepapers/get-started-generative-ai-101\n",
      "/contact-center/articles/three-times-apac-brands-have-succeeded-in-their-omnichannel-goals\n",
      "/cx-service-support/articles/exploring-the-possibilities-of-generative-ai-in-customer-experience\n",
      "/cx-service-support/articles/how-to-leverage-ai-in-the-contact-center\n",
      "/cx-service-support/articles/the-11-customer-service-skills-you-need-to-succeed-in-any-industry\n",
      "/cx-experience/interviews/why-ai-and-teamwork-are-the-future-of-experience-management\n",
      "/cx-experience/how-to-guides/a-step-by-step-guide-to-building-customer-loyalty\n"
     ]
    }
   ],
   "source": [
    "for i in portal :\n",
    "    print(i)"
   ]
  },
  {
   "cell_type": "code",
   "execution_count": 18,
   "id": "890ba6b0",
   "metadata": {},
   "outputs": [],
   "source": [
    "def portal_scraping(show_more_count):\n",
    "    keyword = \"ai\"\n",
    "    url = 'https://www.cxnetwork.com/'\n",
    "    service = Service('chromedriver.exe')\n",
    "    options = webdriver.ChromeOptions()\n",
    "#     options.add_argument('--headless')  # Menjalankan browser dalam mode headless (tanpa tampilan GUI)\n",
    "    driver = webdriver.Chrome(service=service, options=options)  \n",
    "    driver.get(url+\"search/?q=\"+keyword)\n",
    "\n",
    "    # Fungsi Untuk Menentukan Berapa Kali Menekan Tombol \"Show More\" Sesuai Dengan Keinginan User\n",
    "    def click_show_more():\n",
    "        driver.find_element(By.CSS_SELECTOR, 'body').send_keys(Keys.CONTROL, Keys.END)\n",
    "        time.sleep(3)\n",
    "        try:\n",
    "            elem = driver.find_element(By.CSS_SELECTOR, \"span[class='semibold']\")\n",
    "            elem.click()\n",
    "            time.sleep(15)\n",
    "        except:\n",
    "            print(\"error\")\n",
    "\n",
    "    for i in range(int(show_more_count)):\n",
    "        click_show_more()\n",
    "\n",
    "    driver.find_element(By.CSS_SELECTOR, 'body').send_keys(Keys.CONTROL, Keys.END)\n",
    "    time.sleep(1)\n",
    "\n",
    "    raw_html = driver.find_element(By.TAG_NAME, 'body').get_attribute('innerHTML')\n",
    "    driver.close()\n",
    "\n",
    "    soup_html = BeautifulSoup(raw_html, \"html.parser\")\n",
    "    # Membuat Variabel Yang digunakan Untuk Menyimpan URL Yang Berhasil discraping\n",
    "    portal = []\n",
    "\n",
    "    containers = soup_html.findAll('div', attrs={'class':'mt-2 ml-3 mr-3'})\n",
    "    for container in containers:\n",
    "        link = container.findAll('p')\n",
    "        for links in link:\n",
    "            url = links.findAll('a')\n",
    "            for urls in url:\n",
    "                href = urls.get('href')\n",
    "                portal.append(href)\n",
    "\n",
    "    return portal\n",
    "portal = portal_scraping(3)"
   ]
  },
  {
   "cell_type": "code",
   "execution_count": 19,
   "id": "faa87e4c",
   "metadata": {},
   "outputs": [
    {
     "data": {
      "text/plain": [
       "['/content-hub/callminer-content-hub',\n",
       " '/content-hub/cx-network-chatbots-ai-content-hub',\n",
       " '/content-hub/omnichannel-content-hub',\n",
       " '/content-hub/global-state-of-customer-experience-series',\n",
       " '/content-hub/epsilon-content-hub',\n",
       " '/content-hub/evolving-to-transform-customer-experiences',\n",
       " '/content-hub/medallia-content-hub',\n",
       " '/content-hub/calabrio-content-hub',\n",
       " '/content-hub/inmoment-content-hub',\n",
       " '/content-hub/sprinkr-content-hub',\n",
       " '/contact-center/articles/three-times-apac-brands-have-succeeded-in-their-omnichannel-goals',\n",
       " '/cx-service-support/articles/exploring-the-possibilities-of-generative-ai-in-customer-experience',\n",
       " '/cx-service-support/articles/how-to-leverage-ai-in-the-contact-center',\n",
       " '/cx-service-support/articles/the-11-customer-service-skills-you-need-to-succeed-in-any-industry',\n",
       " '/cx-experience/interviews/why-ai-and-teamwork-are-the-future-of-experience-management',\n",
       " '/cx-experience/how-to-guides/a-step-by-step-guide-to-building-customer-loyalty',\n",
       " '/cx-digital/articles/4-ways-ai-is-changing-cx-in-ecommerce',\n",
       " '/generative-ai/articles/how-to-unlock-automation-in-cx',\n",
       " '/cx-experience/articles/spotlight-on-ai-and-diversity-at-the-2023-ccw-excellence-awards',\n",
       " '/cx-experience/articles/3-ways-to-ensure-your-contact-center-is-transforming-for-the-future',\n",
       " '/cx-experience/articles/how-retail-brands-across-asia-pacific-are-enhancing-customer-loyalty',\n",
       " '/cx-digital/whitepapers/4-ways-to-get-started-with-generative-ai-in-customer-support',\n",
       " '/cx-digital/whitepapers/contact-center-playbook-emerging-resilient-and-future-ready-in-uncertain-times',\n",
       " '/voice-of-the-customer/whitepapers/3-steps-to-transform-your-customer-experience-with-ai-driven-insights',\n",
       " '/cx-experience/articles/4-ways-ai-is-set-to-change-contact-centers',\n",
       " '/omnichannel/how-to-guides/the-cx-network-guide-to-social-shopping',\n",
       " '/cx-experience/articles/how-apac-brands-are-using-ai-to-improve-cx',\n",
       " '/cx-experience/articles/the-6-biggest-trends-influencing-customer-loyalty-in-2023',\n",
       " '/omnichannel/whitepapers/reimagining-omnichannel-cx-in-the-age-of-ai',\n",
       " '/cx-experience/articles/top-fashion-brands-share-their-advice-on-digital-cx-and-sustainability',\n",
       " '/cx-experience/reports/global-state-of-cx-customer-experience',\n",
       " '/cx-experience/interviews/making-travel-personal-for-customers-in-2023',\n",
       " '/omnichannel/articles/3-lessons-in-channel-management-from-customer-communications-2023',\n",
       " '/journey-mapping/articles/the-a-z-of-creating-modern-customer-personas',\n",
       " '/cx-digital/articles/how-digital-first-cx-drives-engagement-and-loyalty',\n",
       " '/cx-retail/articles/how-superdrug-is-digitalizing-its-omnichannel-retail-experience',\n",
       " '/cx-experience/articles/5-trends-apac-brands-are-building-their-cx-strategies-around',\n",
       " '/cx-technology/articles/duolingo-and-be-my-eyes-are-revolutionizing-cx-with-chatgpt',\n",
       " '/cx-experience/whitepapers/making-the-case-for-cx-in-times-of-uncertainty',\n",
       " '/cx-experience/articles/why-economic-uncertainty-is-a-problem-for-cx-in-2023',\n",
       " '/journey-mapping/interviews/the-secrets-to-customer-journey-mapping-success-with-jim-tincher',\n",
       " '/omnichannel/articles/4-organizations-that-took-chatbots-to-the-next-level',\n",
       " '/cx-digital/how-to-guides/customer-experience-in-the-metaverse-a-cx-network-guide',\n",
       " '/cx-digital/reports/cx-re-imagined-seamless-intelligent-and-immersive',\n",
       " '/cx-employee-engagement/how-to-guides/the-cx-network-guide-to-employee-experience',\n",
       " '/cx-telecoms/interviews/can-cx-help-to-double-your-revenue-zen-internets-cx-director-explains',\n",
       " '/cx-experience/reports/the-ultimate-guide-to-mastering-chatbots',\n",
       " '/cx-digital/articles/experts-insights-on-digital-customer-experience-to-capitalize-digital-transformation',\n",
       " '/cx-experience/articles/experts-insights-on-channel-integration-in-cx',\n",
       " '/cx-service-support/articles/smart-customer-experience-investments-buyers-perspective']"
      ]
     },
     "execution_count": 19,
     "metadata": {},
     "output_type": "execute_result"
    }
   ],
   "source": [
    "portal"
   ]
  },
  {
   "cell_type": "code",
   "execution_count": 20,
   "id": "50133e80",
   "metadata": {},
   "outputs": [
    {
     "name": "stdout",
     "output_type": "stream",
     "text": [
      "/content-hub/callminer-content-hub\n",
      "/content-hub/cx-network-chatbots-ai-content-hub\n",
      "/content-hub/omnichannel-content-hub\n",
      "/content-hub/global-state-of-customer-experience-series\n",
      "/content-hub/epsilon-content-hub\n",
      "/content-hub/evolving-to-transform-customer-experiences\n",
      "/content-hub/medallia-content-hub\n",
      "/content-hub/calabrio-content-hub\n",
      "/content-hub/inmoment-content-hub\n",
      "/content-hub/sprinkr-content-hub\n",
      "/contact-center/articles/three-times-apac-brands-have-succeeded-in-their-omnichannel-goals\n",
      "/cx-service-support/articles/exploring-the-possibilities-of-generative-ai-in-customer-experience\n",
      "/cx-service-support/articles/how-to-leverage-ai-in-the-contact-center\n",
      "/cx-service-support/articles/the-11-customer-service-skills-you-need-to-succeed-in-any-industry\n",
      "/cx-experience/interviews/why-ai-and-teamwork-are-the-future-of-experience-management\n",
      "/cx-experience/how-to-guides/a-step-by-step-guide-to-building-customer-loyalty\n",
      "/cx-digital/articles/4-ways-ai-is-changing-cx-in-ecommerce\n",
      "/generative-ai/articles/how-to-unlock-automation-in-cx\n",
      "/cx-experience/articles/spotlight-on-ai-and-diversity-at-the-2023-ccw-excellence-awards\n",
      "/cx-experience/articles/3-ways-to-ensure-your-contact-center-is-transforming-for-the-future\n",
      "/cx-experience/articles/how-retail-brands-across-asia-pacific-are-enhancing-customer-loyalty\n",
      "/cx-digital/whitepapers/4-ways-to-get-started-with-generative-ai-in-customer-support\n",
      "/cx-digital/whitepapers/contact-center-playbook-emerging-resilient-and-future-ready-in-uncertain-times\n",
      "/voice-of-the-customer/whitepapers/3-steps-to-transform-your-customer-experience-with-ai-driven-insights\n",
      "/cx-experience/articles/4-ways-ai-is-set-to-change-contact-centers\n",
      "/omnichannel/how-to-guides/the-cx-network-guide-to-social-shopping\n",
      "/cx-experience/articles/how-apac-brands-are-using-ai-to-improve-cx\n",
      "/cx-experience/articles/the-6-biggest-trends-influencing-customer-loyalty-in-2023\n",
      "/omnichannel/whitepapers/reimagining-omnichannel-cx-in-the-age-of-ai\n",
      "/cx-experience/articles/top-fashion-brands-share-their-advice-on-digital-cx-and-sustainability\n",
      "/cx-experience/reports/global-state-of-cx-customer-experience\n",
      "/cx-experience/interviews/making-travel-personal-for-customers-in-2023\n",
      "/omnichannel/articles/3-lessons-in-channel-management-from-customer-communications-2023\n",
      "/journey-mapping/articles/the-a-z-of-creating-modern-customer-personas\n",
      "/cx-digital/articles/how-digital-first-cx-drives-engagement-and-loyalty\n",
      "/cx-retail/articles/how-superdrug-is-digitalizing-its-omnichannel-retail-experience\n",
      "/cx-experience/articles/5-trends-apac-brands-are-building-their-cx-strategies-around\n",
      "/cx-technology/articles/duolingo-and-be-my-eyes-are-revolutionizing-cx-with-chatgpt\n",
      "/cx-experience/whitepapers/making-the-case-for-cx-in-times-of-uncertainty\n",
      "/cx-experience/articles/why-economic-uncertainty-is-a-problem-for-cx-in-2023\n",
      "/journey-mapping/interviews/the-secrets-to-customer-journey-mapping-success-with-jim-tincher\n",
      "/omnichannel/articles/4-organizations-that-took-chatbots-to-the-next-level\n",
      "/cx-digital/how-to-guides/customer-experience-in-the-metaverse-a-cx-network-guide\n",
      "/cx-digital/reports/cx-re-imagined-seamless-intelligent-and-immersive\n",
      "/cx-employee-engagement/how-to-guides/the-cx-network-guide-to-employee-experience\n",
      "/cx-telecoms/interviews/can-cx-help-to-double-your-revenue-zen-internets-cx-director-explains\n",
      "/cx-experience/reports/the-ultimate-guide-to-mastering-chatbots\n",
      "/cx-digital/articles/experts-insights-on-digital-customer-experience-to-capitalize-digital-transformation\n",
      "/cx-experience/articles/experts-insights-on-channel-integration-in-cx\n",
      "/cx-service-support/articles/smart-customer-experience-investments-buyers-perspective\n"
     ]
    }
   ],
   "source": [
    "for i in portal :\n",
    "    print(i)"
   ]
  },
  {
   "cell_type": "code",
   "execution_count": 21,
   "id": "a9d246fc",
   "metadata": {},
   "outputs": [
    {
     "name": "stdout",
     "output_type": "stream",
     "text": [
      "String 1\n",
      "String 2\n",
      "String 3\n",
      "String 4\n"
     ]
    }
   ],
   "source": [
    "# Definisikan list dengan beberapa string\n",
    "daftar_string = [\"String 1\", \"String 2\", \"String 3\", \"String 4\"]\n",
    "\n",
    "# Menggunakan loop for untuk mengambil string secara bergiliran\n",
    "for string in daftar_string:\n",
    "    print(string)\n"
   ]
  },
  {
   "cell_type": "code",
   "execution_count": 12,
   "id": "74f5b50c",
   "metadata": {},
   "outputs": [
    {
     "name": "stdout",
     "output_type": "stream",
     "text": [
      "Jumlah token dalam teks: 12\n"
     ]
    }
   ],
   "source": [
    "import nltk\n",
    "from nltk.tokenize import word_tokenize\n",
    "\n",
    "text = \"Ini adalah contoh kalimat. Hitung jumlah token dalam kalimat ini.\"\n",
    "tokens = word_tokenize(text)\n",
    "jumlah_token = len(tokens)\n",
    "\n",
    "print(\"Jumlah token dalam teks:\", jumlah_token)"
   ]
  },
  {
   "cell_type": "code",
   "execution_count": 14,
   "id": "7be51422",
   "metadata": {},
   "outputs": [
    {
     "name": "stdout",
     "output_type": "stream",
     "text": [
      "10\n"
     ]
    }
   ],
   "source": [
    "text = \"Ini adalah contoh kalimat. Hitung jumlah token dalam kalimat ini.\"\n",
    "\n",
    "tokens = text.split(\" \")\n",
    "\n",
    "print(len(tokens))"
   ]
  },
  {
   "cell_type": "code",
   "execution_count": 15,
   "id": "b0489ba3",
   "metadata": {},
   "outputs": [
    {
     "name": "stdout",
     "output_type": "stream",
     "text": [
      "Imagine a digital artwork that depicts a vast network of interconnected data nodes, resembling a futuristic cityscape. The nodes are pulsating with vibrant colors, representing the vast amount of data collected by Facebook through WhatsApp and Instagram. The composition is dynamic, with data streams flowing between the nodes, symbolizing the transfer of information. The artwork is set against a backdrop of a starry night sky, creating a sense of wonder and intrigue. The overall mood is futuristic and technologically advanced.\n"
     ]
    }
   ],
   "source": [
    "import re\n",
    "\n",
    "# String input\n",
    "prompt = \"Sure! Here are three prompts based on the description you provided:\\n\\nPrompt 1:\\nImagine a digital artwork that depicts a vast network of interconnected data nodes, resembling a futuristic cityscape. The nodes are pulsating with vibrant colors, representing the vast amount of data collected by Facebook through WhatsApp and Instagram. The composition is dynamic, with data streams flowing between the nodes, symbolizing the transfer of information. The artwork is set against a backdrop of a starry night sky, creating a sense of wonder and intrigue. The overall mood is futuristic and technologically advanced.\\n\\nPrompt 2:\\nVisualize a scene where a person is standing in the middle of a crowded city square, surrounded by giant screens displaying various images and messages. Each screen represents a different aspect of Facebook's data collection and privacy policies on WhatsApp and Instagram. Some screens show people sharing personal information, while others display targeted advertisements based on user data. The person in the center appears overwhelmed and concerned, reflecting the potential invasion of privacy. The lighting is harsh and artificial, emphasizing the surveillance-like atmosphere.\\n\\nPrompt 3:\\nEnvision an illustration that portrays a serene garden with blooming flowers and lush greenery. In the center of the garden, there is a massive tree with branches spreading out in all directions. Each branch represents a different aspect of Facebook's data collection and privacy policies on WhatsApp and Instagram. Some branches are vibrant and healthy, symbolizing transparent and ethical data practices, while others are withered and tangled, representing questionable privacy policies. The garden is bathed in soft, warm sunlight, creating a peaceful and inviting ambiance.\\n\\nPlease select one of the prompts using the [pX] command, where X is the number of the selected prompt.\"\n",
    "\n",
    "# Gunakan regex untuk mencari string antara \"Prompt 1\" dan \"Prompt 2\"\n",
    "result = re.search(r'Prompt 1:(.*?)Prompt 2:', prompt, re.DOTALL)\n",
    "\n",
    "if result:\n",
    "    string_antara_prompt1_dan_prompt2 = result.group(1).strip()\n",
    "    print(string_antara_prompt1_dan_prompt2)\n",
    "else:\n",
    "    print(\"Tidak ada yang cocok\")\n"
   ]
  },
  {
   "cell_type": "code",
   "execution_count": 1,
   "id": "bb3919d9",
   "metadata": {},
   "outputs": [],
   "source": [
    "import re\n",
    "prompt = \"Sure! Here are three prompts based on the description you provided:\\n\\nPrompt 1:\\nImagine a digital artwork that depicts a vast network of interconnected data nodes, resembling a futuristic cityscape. The nodes are pulsating with vibrant colors, representing the vast amount of data collected by Facebook through WhatsApp and Instagram. The composition is dynamic, with data streams flowing between the nodes, symbolizing the transfer of information. The artwork is set against a backdrop of a starry night sky, creating a sense of wonder and intrigue. The overall mood is futuristic and technologically advanced.\\n\\nPrompt 2:\\nVisualize a scene where a person is standing in the middle of a crowded city square, surrounded by giant screens displaying various images and messages. Each screen represents a different aspect of Facebook's data collection and privacy policies on WhatsApp and Instagram. Some screens show people sharing personal information, while others display targeted advertisements based on user data. The person in the center appears overwhelmed and concerned, reflecting the potential invasion of privacy. The lighting is harsh and artificial, emphasizing the surveillance-like atmosphere.\\n\\nPrompt 3:\\nEnvision an illustration that portrays a serene garden with blooming flowers and lush greenery. In the center of the garden, there is a massive tree with branches spreading out in all directions. Each branch represents a different aspect of Facebook's data collection and privacy policies on WhatsApp and Instagram. Some branches are vibrant and healthy, symbolizing transparent and ethical data practices, while others are withered and tangled, representing questionable privacy policies. The garden is bathed in soft, warm sunlight, creating a peaceful and inviting ambiance.\\n\\nPlease select one of the prompts using the [pX] command, where X is the number of the selected prompt.\"\n",
    "\n",
    "def check_and_process_text(text):\n",
    "    if \"Please provide a description\" in text:\n",
    "        print(\"Hasil tidak sesuai: Teks mengandung 'please provide a description'\")\n",
    "#         save_url=saveurl()\n",
    "#         store_scrapped_url(save_url)\n",
    "#         print(\"ulangi...\")\n",
    "#         full_program_run()\n",
    "#         print(\"berhasil mengulangi..\")\n",
    "        return None\n",
    "    \n",
    "    pattern = r\"1\\.(.*?)2\\.\"\n",
    "    # jika antara 1 dan 2\n",
    "    matches = re.findall(pattern, text, re.DOTALL)\n",
    "    # jika antara prompt 1 dan prompt 2\n",
    "    result = re.search(r'Prompt 1:(.*?)Prompt 2:', text, re.DOTALL)\n",
    "\n",
    "\n",
    "    if matches:\n",
    "        extracted_text = matches[0].strip()\n",
    "        extracted_text = re.sub(r'Prompt:', '', extracted_text)\n",
    "        extracted_text = re.sub(r'Prompt 1:', '', extracted_text)\n",
    "        extracted_text = re.sub(r'Image Description:', '', extracted_text)\n",
    "        extracted_text = re.sub(r'Choose this prompt by entering [p1].', '', extracted_text)\n",
    "        print(\"1\")\n",
    "        return extracted_text\n",
    "    elif result:\n",
    "        string_antara_prompt1_dan_prompt2 = result.group(1).strip()\n",
    "        string_antara_prompt1_dan_prompt2 = re.sub(r'Image Description:', '', string_antara_prompt1_dan_prompt2)\n",
    "        string_antara_prompt1_dan_prompt2 = re.sub(r'Choose this prompt by entering [p1].', '', string_antara_prompt1_dan_prompt2)\n",
    "        print(\"2\")\n",
    "        return string_antara_prompt1_dan_prompt2\n",
    "    else:\n",
    "        print(\"Hasil tidak sesuai: Tidak ditemukan teks antara '1.' dan '2.'\")\n",
    "        return None"
   ]
  },
  {
   "cell_type": "code",
   "execution_count": 2,
   "id": "36aff05f",
   "metadata": {},
   "outputs": [
    {
     "name": "stdout",
     "output_type": "stream",
     "text": [
      "2\n",
      "Imagine a digital artwork that depicts a vast network of interconnected data nodes, resembling a futuristic cityscape. The nodes are pulsating with vibrant colors, representing the vast amount of data collected by Facebook through WhatsApp and Instagram. The composition is dynamic, with data streams flowing between the nodes, symbolizing the transfer of information. The artwork is set against a backdrop of a starry night sky, creating a sense of wonder and intrigue. The overall mood is futuristic and technologically advanced.\n"
     ]
    }
   ],
   "source": [
    "processed_text = check_and_process_text(prompt)\n",
    "print(processed_text)"
   ]
  },
  {
   "cell_type": "code",
   "execution_count": 15,
   "id": "07978cd0",
   "metadata": {},
   "outputs": [
    {
     "name": "stdout",
     "output_type": "stream",
     "text": [
      "Kesalahan: Kegagalan\n",
      "Fungsi utama gagal\n",
      "Fungsi alternatif dijalankan\n"
     ]
    }
   ],
   "source": [
    "from retry import retry\n",
    "import random\n",
    "\n",
    "# Fungsi utama dengan retry\n",
    "@retry(Exception, tries=3, delay=1)\n",
    "def fungsi_utama():\n",
    "    try:\n",
    "        # Kode yang mungkin mengalami kegagalan (contoh: 30% peluang kegagalan)\n",
    "        if random.random() < 10:\n",
    "            raise Exception(\"Kegagalan\")\n",
    "\n",
    "        # Jika berhasil, kembalikan sebuah list\n",
    "        return [1, 2, 3]\n",
    "\n",
    "    except Exception as e:\n",
    "        print(f\"Kesalahan: {str(e)}\")\n",
    "        return None  # Mengembalikan None dalam kasus kesalahan\n",
    "\n",
    "# Fungsi kedua yang akan dijalankan jika fungsi utama gagal\n",
    "def fungsi_alternatif():\n",
    "    print(\"Fungsi alternatif dijalankan\")\n",
    "\n",
    "# Panggil fungsi utama\n",
    "hasil = fungsi_utama()\n",
    "\n",
    "# Periksa hasil\n",
    "if hasil is not None:\n",
    "    print(\"Fungsi utama berhasil\")\n",
    "    print(\"Hasil:\", hasil)\n",
    "else:\n",
    "    print(\"Fungsi utama gagal\")\n",
    "    # Jika fungsi utama gagal, jalankan fungsi alternatif\n",
    "    fungsi_alternatif()\n"
   ]
  },
  {
   "cell_type": "code",
   "execution_count": 36,
   "id": "52b871d8",
   "metadata": {},
   "outputs": [],
   "source": [
    "def cek():\n",
    "    gambar = ['https://pbxt.replicate.delivery/KGWKIv78I5aQA59gGST9djCu7eSx2126LBTqxcXhwpmsyjxIA/out-0.png']\n",
    "    return gambar"
   ]
  },
  {
   "cell_type": "code",
   "execution_count": 43,
   "id": "31a46624",
   "metadata": {},
   "outputs": [
    {
     "name": "stdout",
     "output_type": "stream",
     "text": [
      "https://pbxt.replicate.delivery/KGWKIv78I5aQA59gGST9djCu7eSx2126LBTqxcXhwpmsyjxIA/out-0.png\n"
     ]
    }
   ],
   "source": [
    "gambar=cek()\n",
    "print(gambar[0])"
   ]
  },
  {
   "cell_type": "code",
   "execution_count": 4,
   "id": "f4bbc5ff",
   "metadata": {},
   "outputs": [
    {
     "name": "stdout",
     "output_type": "stream",
     "text": [
      "Keyword yang dipilih secara acak: code\n",
      "Keyword yang dipilih secara acak: ['Python', 'AI', 'programming']\n"
     ]
    }
   ],
   "source": [
    "import random\n",
    "\n",
    "# List keyword\n",
    "keywords = [\"Python\", \"programming\", \"code\", \"data\", \"AI\", \"machine learning\"]\n",
    "\n",
    "# Memilih satu keyword secara acak\n",
    "random_keyword = random.choice(keywords)\n",
    "print(\"Keyword yang dipilih secara acak:\", random_keyword)\n",
    "\n",
    "# Memilih beberapa keyword secara acak (misalnya, 3 keyword)\n",
    "random_keywords = random.choices(keywords, k=3)\n",
    "print(\"Keyword yang dipilih secara acak:\", random_keywords)\n"
   ]
  },
  {
   "cell_type": "code",
   "execution_count": 5,
   "id": "1f2dd843",
   "metadata": {},
   "outputs": [
    {
     "name": "stdout",
     "output_type": "stream",
     "text": [
      "\u001b[31mHello, World!\u001b[m\n",
      "\u001b[32;43mHello, World!\u001b[m\n",
      "\u001b[1mHello, World!\u001b[m\n"
     ]
    }
   ],
   "source": [
    "# Contoh mengubah teks menjadi merah\n",
    "print(\"\\033[31mHello, World!\\033[m\")\n",
    "\n",
    "# Contoh mengubah teks menjadi hijau dengan latar belakang kuning\n",
    "print(\"\\033[32;43mHello, World!\\033[m\")\n",
    "\n",
    "# Contoh teks tebal\n",
    "print(\"\\033[1mHello, World!\\033[m\")"
   ]
  },
  {
   "cell_type": "code",
   "execution_count": 9,
   "id": "358abe44",
   "metadata": {},
   "outputs": [
    {
     "name": "stdout",
     "output_type": "stream",
     "text": [
      "\u001b[42m\u001b[30m\n",
      "Hasil awal: \n",
      "\u001b[m\n"
     ]
    }
   ],
   "source": [
    "print(\"\\033[42m\\033[30m\\nHasil awal: \\n\\033[m\")"
   ]
  },
  {
   "cell_type": "code",
   "execution_count": 2,
   "id": "4860fe14",
   "metadata": {},
   "outputs": [
    {
     "name": "stdout",
     "output_type": "stream",
     "text": [
      "['Sebuah teknologi yang semakin berkembang pesat adalah kecerdasan buatan (Artificial Intelligence/AI). Kecerdasan buatan mengacu pada kemampuan mesin atau komputer untuk belajar dan mengeksekusi tugas-tugas yang memerlukan kecerdasan manusia, seperti pengenalan suara, pengolahan bahasa alami, dan pengamb', 'ilan keputusan. Kecerdasan buatan telah mengubah banyak aspek kehidupan kita, mulai dari otomatisasi pekerjaan hingga pengembangan perangkat medis canggih. Meskipun masih banyak tantangan yang perlu diatasi, perkembangan AI terus berlanjut dan memberikan potensi besar untuk perbaikan di berbagai bidang.']\n"
     ]
    }
   ],
   "source": [
    "konten1 = \"Sebuah teknologi yang semakin berkembang pesat adalah kecerdasan buatan (Artificial Intelligence/AI). Kecerdasan buatan mengacu pada kemampuan mesin atau komputer untuk belajar dan mengeksekusi tugas-tugas yang memerlukan kecerdasan manusia, seperti pengenalan suara, pengolahan bahasa alami, dan pengambilan keputusan. Kecerdasan buatan telah mengubah banyak aspek kehidupan kita, mulai dari otomatisasi pekerjaan hingga pengembangan perangkat medis canggih. Meskipun masih banyak tantangan yang perlu diatasi, perkembangan AI terus berlanjut dan memberikan potensi besar untuk perbaikan di berbagai bidang.\"\n",
    "\n",
    "#     process_long_text(hasil)\n",
    "panjang_artikel = len(konten1)\n",
    "\n",
    "# Membagi string menjadi dua bagian\n",
    "bagian_pertama = konten1[:panjang_artikel // 2]\n",
    "bagian_kedua = konten1[panjang_artikel // 2:]\n",
    "\n",
    "hasil = [bagian_pertama, bagian_kedua]\n",
    "print(hasil)\n"
   ]
  },
  {
   "cell_type": "code",
   "execution_count": 8,
   "id": "897c66a2",
   "metadata": {},
   "outputs": [
    {
     "name": "stdout",
     "output_type": "stream",
     "text": [
      "\n",
      " Sebuah teknologi yang semakin berkembang pesat adalah kecerdasan buatan (Artificial Intelligence/AI). Kecerdasan buatan mengacu pada kemampuan mesin atau komputer untuk belajar dan mengeksekusi tugas-tugas yang memerlukan kecerdasan manusia, seperti pengenalan suara, pengolahan bahasa alami, dan pengamb\n",
      "\n",
      " ilan keputusan. Kecerdasan buatan telah mengubah banyak aspek kehidupan kita, mulai dari otomatisasi pekerjaan hingga pengembangan perangkat medis canggih. Meskipun masih banyak tantangan yang perlu diatasi, perkembangan AI terus berlanjut dan memberikan potensi besar untuk perbaikan di berbagai bidang.\n"
     ]
    }
   ],
   "source": [
    "for i in hasil :\n",
    "    print(\"\\n\",i)"
   ]
  },
  {
   "cell_type": "code",
   "execution_count": 10,
   "id": "c118f30f",
   "metadata": {},
   "outputs": [
    {
     "name": "stdout",
     "output_type": "stream",
     "text": [
      "Bagian 1:\n",
      "Sebuah teknologi yang semakin berkembang pesat adalah kecerdasan buatan (Artificial Intelligence/AI). Kecerdasan buatan mengacu pada kemampuan mesin atau komputer untuk belajar dan mengeksekusi tugas-tugas yang memerlukan kecerdasan manusia, seperti pengenalan suara, pengolahan bahasa alami, dan pengambilan keputusan.\n",
      "\n",
      "Bagian 2:\n",
      "Kecerdasan buatan telah mengubah banyak aspek kehidupan kita, mulai dari otomatisasi pekerjaan hingga pengembangan perangkat medis canggih. Meskipun masih banyak tantangan yang perlu diatasi, perkembangan AI terus berlanjut dan memberikan potensi besar untuk perbaikan di berbagai bidang.\n"
     ]
    }
   ],
   "source": [
    "konten1 = \"Sebuah teknologi yang semakin berkembang pesat adalah kecerdasan buatan (Artificial Intelligence/AI). Kecerdasan buatan mengacu pada kemampuan mesin atau komputer untuk belajar dan mengeksekusi tugas-tugas yang memerlukan kecerdasan manusia, seperti pengenalan suara, pengolahan bahasa alami, dan pengambilan keputusan. Kecerdasan buatan telah mengubah banyak aspek kehidupan kita, mulai dari otomatisasi pekerjaan hingga pengembangan perangkat medis canggih. Meskipun masih banyak tantangan yang perlu diatasi, perkembangan AI terus berlanjut dan memberikan potensi besar untuk perbaikan di berbagai bidang.\"\n",
    "\n",
    "# Memecah string menjadi token\n",
    "token = konten1.split()\n",
    "\n",
    "# Menghitung jumlah token\n",
    "jumlah_token = len(token)\n",
    "\n",
    "# Membagi string menjadi dua bagian dengan jumlah token yang sama\n",
    "bagian1 = \" \".join(token[:jumlah_token // 2])\n",
    "bagian2 = \" \".join(token[jumlah_token // 2:])\n",
    "\n",
    "# Menampilkan dua bagian\n",
    "print(\"Bagian 1:\")\n",
    "print(bagian1)\n",
    "\n",
    "print(\"\\nBagian 2:\")\n",
    "print(bagian2)\n"
   ]
  },
  {
   "cell_type": "code",
   "execution_count": 11,
   "id": "3bbe5d9b",
   "metadata": {},
   "outputs": [
    {
     "data": {
      "text/plain": [
       "319"
      ]
     },
     "execution_count": 11,
     "metadata": {},
     "output_type": "execute_result"
    }
   ],
   "source": [
    "len(bagian1)"
   ]
  },
  {
   "cell_type": "code",
   "execution_count": 12,
   "id": "2c25e8ed",
   "metadata": {},
   "outputs": [
    {
     "data": {
      "text/plain": [
       "288"
      ]
     },
     "execution_count": 12,
     "metadata": {},
     "output_type": "execute_result"
    }
   ],
   "source": [
    "len(bagian2)"
   ]
  },
  {
   "cell_type": "code",
   "execution_count": 14,
   "id": "72b233f2",
   "metadata": {},
   "outputs": [
    {
     "data": {
      "text/plain": [
       "74"
      ]
     },
     "execution_count": 14,
     "metadata": {},
     "output_type": "execute_result"
    }
   ],
   "source": [
    "jumlah_token"
   ]
  },
  {
   "cell_type": "code",
   "execution_count": 15,
   "id": "807a28dc",
   "metadata": {},
   "outputs": [
    {
     "data": {
      "text/plain": [
       "['Sebuah',\n",
       " 'teknologi',\n",
       " 'yang',\n",
       " 'semakin',\n",
       " 'berkembang',\n",
       " 'pesat',\n",
       " 'adalah',\n",
       " 'kecerdasan',\n",
       " 'buatan',\n",
       " '(Artificial',\n",
       " 'Intelligence/AI).',\n",
       " 'Kecerdasan',\n",
       " 'buatan',\n",
       " 'mengacu',\n",
       " 'pada',\n",
       " 'kemampuan',\n",
       " 'mesin',\n",
       " 'atau',\n",
       " 'komputer',\n",
       " 'untuk',\n",
       " 'belajar',\n",
       " 'dan',\n",
       " 'mengeksekusi',\n",
       " 'tugas-tugas',\n",
       " 'yang',\n",
       " 'memerlukan',\n",
       " 'kecerdasan',\n",
       " 'manusia,',\n",
       " 'seperti',\n",
       " 'pengenalan',\n",
       " 'suara,',\n",
       " 'pengolahan',\n",
       " 'bahasa',\n",
       " 'alami,',\n",
       " 'dan',\n",
       " 'pengambilan',\n",
       " 'keputusan.',\n",
       " 'Kecerdasan',\n",
       " 'buatan',\n",
       " 'telah',\n",
       " 'mengubah',\n",
       " 'banyak',\n",
       " 'aspek',\n",
       " 'kehidupan',\n",
       " 'kita,',\n",
       " 'mulai',\n",
       " 'dari',\n",
       " 'otomatisasi',\n",
       " 'pekerjaan',\n",
       " 'hingga',\n",
       " 'pengembangan',\n",
       " 'perangkat',\n",
       " 'medis',\n",
       " 'canggih.',\n",
       " 'Meskipun',\n",
       " 'masih',\n",
       " 'banyak',\n",
       " 'tantangan',\n",
       " 'yang',\n",
       " 'perlu',\n",
       " 'diatasi,',\n",
       " 'perkembangan',\n",
       " 'AI',\n",
       " 'terus',\n",
       " 'berlanjut',\n",
       " 'dan',\n",
       " 'memberikan',\n",
       " 'potensi',\n",
       " 'besar',\n",
       " 'untuk',\n",
       " 'perbaikan',\n",
       " 'di',\n",
       " 'berbagai',\n",
       " 'bidang.']"
      ]
     },
     "execution_count": 15,
     "metadata": {},
     "output_type": "execute_result"
    }
   ],
   "source": [
    "token"
   ]
  },
  {
   "cell_type": "code",
   "execution_count": 16,
   "id": "6ad85509",
   "metadata": {},
   "outputs": [
    {
     "name": "stdout",
     "output_type": "stream",
     "text": [
      "Jumlah token: 85\n"
     ]
    }
   ],
   "source": [
    "import nltk\n",
    "\n",
    "# Teks Anda\n",
    "konten1 = \"Sebuah teknologi yang semakin berkembang pesat adalah kecerdasan buatan (Artificial Intelligence/AI). Kecerdasan buatan mengacu pada kemampuan mesin atau komputer untuk belajar dan mengeksekusi tugas-tugas yang memerlukan kecerdasan manusia, seperti pengenalan suara, pengolahan bahasa alami, dan pengambilan keputusan. Kecerdasan buatan telah mengubah banyak aspek kehidupan kita, mulai dari otomatisasi pekerjaan hingga pengembangan perangkat medis canggih. Meskipun masih banyak tantangan yang perlu diatasi, perkembangan AI terus berlanjut dan memberikan potensi besar untuk perbaikan di berbagai bidang.\"\n",
    "\n",
    "# Tokenisasi teks menggunakan NLTK\n",
    "token = nltk.word_tokenize(konten1)\n",
    "\n",
    "# Menghitung jumlah token\n",
    "jumlah_token = len(token)\n",
    "\n",
    "# Menampilkan jumlah token\n",
    "print(\"Jumlah token:\", jumlah_token)\n"
   ]
  },
  {
   "cell_type": "code",
   "execution_count": 23,
   "id": "2d5f8234",
   "metadata": {},
   "outputs": [
    {
     "name": "stdout",
     "output_type": "stream",
     "text": [
      "Bagian 1:\n",
      "Sebuah teknologi yang semakin berkembang pesat adalah kecerdasan buatan ( Artificial Intelligence/AI ) . Kecerdasan buatan mengacu pada kemampuan mesin atau komputer untuk belajar dan mengeksekusi tugas-tugas yang memerlukan kecerdasan manusia , seperti pengenalan suara , pengolahan bahasa alami , dan pengambilan\n",
      "\n",
      "Bagian 2:\n",
      "keputusan . Kecerdasan buatan telah mengubah banyak aspek kehidupan kita , mulai dari otomatisasi pekerjaan hingga pengembangan perangkat medis canggih . Meskipun masih banyak tantangan yang perlu diatasi , perkembangan AI terus berlanjut dan memberikan potensi besar untuk perbaikan di berbagai bidang .\n",
      "\n",
      "Jumlah token: 85\n"
     ]
    }
   ],
   "source": [
    "import nltk\n",
    "\n",
    "# Teks Anda\n",
    "konten1 = \"Sebuah teknologi yang semakin berkembang pesat adalah kecerdasan buatan (Artificial Intelligence/AI). Kecerdasan buatan mengacu pada kemampuan mesin atau komputer untuk belajar dan mengeksekusi tugas-tugas yang memerlukan kecerdasan manusia, seperti pengenalan suara, pengolahan bahasa alami, dan pengambilan keputusan. Kecerdasan buatan telah mengubah banyak aspek kehidupan kita, mulai dari otomatisasi pekerjaan hingga pengembangan perangkat medis canggih. Meskipun masih banyak tantangan yang perlu diatasi, perkembangan AI terus berlanjut dan memberikan potensi besar untuk perbaikan di berbagai bidang.\"\n",
    "\n",
    "# Tokenisasi teks menggunakan NLTK\n",
    "token = nltk.word_tokenize(konten1)\n",
    "\n",
    "# Menghitung jumlah token\n",
    "jumlah_token = len(token)\n",
    "\n",
    "# Memecah string menjadi dua bagian dengan jumlah token yang sama\n",
    "bagian1 = \" \".join(token[:jumlah_token // 2])\n",
    "bagian2 = \" \".join(token[jumlah_token // 2:])\n",
    "\n",
    "# Menampilkan dua bagian\n",
    "print(\"Bagian 1:\")\n",
    "print(bagian1)\n",
    "\n",
    "print(\"\\nBagian 2:\")\n",
    "print(bagian2)\n",
    "\n",
    "# Menampilkan jumlah token\n",
    "print(\"\\nJumlah token:\", jumlah_token)\n"
   ]
  },
  {
   "cell_type": "code",
   "execution_count": 24,
   "id": "90aaafe3",
   "metadata": {},
   "outputs": [],
   "source": [
    "gabung = [bagian1 , bagian2]"
   ]
  },
  {
   "cell_type": "code",
   "execution_count": 26,
   "id": "dc6c7d7d",
   "metadata": {},
   "outputs": [
    {
     "name": "stdout",
     "output_type": "stream",
     "text": [
      "['Sebuah teknologi yang semakin berkembang pesat adalah kecerdasan buatan ( Artificial Intelligence/AI ) . Kecerdasan buatan mengacu pada kemampuan mesin atau komputer untuk belajar dan mengeksekusi tugas-tugas yang memerlukan kecerdasan manusia , seperti pengenalan suara , pengolahan bahasa alami , dan pengambilan', 'keputusan . Kecerdasan buatan telah mengubah banyak aspek kehidupan kita , mulai dari otomatisasi pekerjaan hingga pengembangan perangkat medis canggih . Meskipun masih banyak tantangan yang perlu diatasi , perkembangan AI terus berlanjut dan memberikan potensi besar untuk perbaikan di berbagai bidang .']\n"
     ]
    },
    {
     "data": {
      "text/plain": [
       "2"
      ]
     },
     "execution_count": 26,
     "metadata": {},
     "output_type": "execute_result"
    }
   ],
   "source": [
    "print(gabung)\n",
    "len(gabung)"
   ]
  },
  {
   "cell_type": "code",
   "execution_count": 21,
   "id": "09ca8ea3",
   "metadata": {},
   "outputs": [
    {
     "data": {
      "text/plain": [
       "42"
      ]
     },
     "execution_count": 21,
     "metadata": {},
     "output_type": "execute_result"
    }
   ],
   "source": [
    "total1 = nltk.word_tokenize(bagian1)\n",
    "len(total1)"
   ]
  },
  {
   "cell_type": "code",
   "execution_count": 22,
   "id": "e6c08b46",
   "metadata": {},
   "outputs": [
    {
     "data": {
      "text/plain": [
       "43"
      ]
     },
     "execution_count": 22,
     "metadata": {},
     "output_type": "execute_result"
    }
   ],
   "source": [
    "total2 = nltk.word_tokenize(bagian2)\n",
    "len(total2)"
   ]
  },
  {
   "cell_type": "code",
   "execution_count": 9,
   "id": "83daa47a",
   "metadata": {},
   "outputs": [],
   "source": [
    "import nltk"
   ]
  },
  {
   "cell_type": "code",
   "execution_count": 1,
   "id": "fa631e3f",
   "metadata": {},
   "outputs": [],
   "source": [
    "hasil = \"WhatsApp Business is a business-to-consumer communication channel where people can message with businesses. It offers brands a way to connect with customers via WhatsApp messaging. Since its launch in January 2018, millions of businesses have adopted the platform “to support customers, grow their businesses, and serve their communities all over the world,” according to WhatsApp. Here’s what you need to know about WhatsApp Business usage—all of the most important WhatsApp for business statistics and how you can get the most out of the platform. With more than two billion monthly active users across 180 countries, WhatsApp is the most popular messaging app in the world. And its users are chatty: Collectively, WhatsApp users send 100 billion messages per day. Here are the key WhatsApp Business stats you need to know to succeed on the platform. WhatsApp’s dominance is global: It’s the communication platform of choice in EMEA, Latin America, and parts of Asia—and especially huge in emerging markets like India (487 million users) and Brazil (118 million users). For years, messaging apps like WhatsApp have been growing as an attractive cheaper alternative in countries where SMS messaging is expensive. This may help account for the app’s widespread popularity in Asia and Latin America, as demonstrated by the WhatsApp Business stats illustrated in the map above. Additionally, as the world becomes more globalized, WhatsApp and other messaging platforms provide an easy and affordable way to stay connected with friends and relatives abroad — particularly in countries with prominent diasporas, such as the Philippines. Even the Philippine government has gotten in on the trend. At least one Philippine Consulate now operates a WhatsApp hotline in order to better serve their citizens abroad. There are three main things you need to know about WhatsApp Business usage: Since the launch of WhatsApp Business in January 2018, WhatsApp for business statistics show that more than 5 million businesses have started using the platform. It’s no wonder it’s so popular—WhatsApp Business gives brands the ability to create mobile storefronts for their businesses with catalogs and accept secure payments using Facebook Pay. These built-in sales and marketing capabilities make it easy for prospective customers to browse products or services, ask questions, and make a purchase, all without leaving the app. It’s not just business dominating the platform—the public sector is getting on in it too. More and more governments are using WhatsApp to keep their citizens informed about important issues. For instance, in Australia, the government is operating a COVID-19 WhatsApp channel to share important health information. WhatsApp usage is widespread in Europe, Latin America, and parts of Asia. While the app has faced slower adoption in North America, don’t discount it—it’s number four behind Facebook Messenger, Apple Messages and Instagram. As of July 2020, 12% of adults in the United States use WhatsApp, compared to 32% who use Facebook Messenger. But WhatsApp usage does seem to be on the rise — in 2019, 68.1 million U.S. mobile phone users accessed WhatsApp to communicate and some forecasters project this figure to grow to 85.8 million users by 2023. Where your customers are is important, but it also matters who they are. For instance, in the U.K., some studies have indicated that 80 percent of adults aged 18 to 24 use WhatsApp, a much higher proportion than the general population. WhatsApp for business statistics show that similar trends hold true in other nations where WhatsApp is popular: Generally speaking, WhatsApp usage is highest among Millennials and Gen Z. For instance, in India, 49 percent of 18-25 year olds and 35 percent of 26-35 year olds are active WhatsApp users (the share of active users declines with age). In the U.S., it’s most popular among millennials aged 26-35. WhatsApp has risen to messaging dominance around the world. Tap into this market by using WhatsApp Business through Verint Messaging. WhatsApp provides a seamless customer experience for users on the front end, while Verint Messaging adds a powerful customer messaging platform for businesses on the back end. Together, they’re unstoppable. Webinar Webinar Webinar\""
   ]
  },
  {
   "cell_type": "code",
   "execution_count": 11,
   "id": "b131c7df",
   "metadata": {},
   "outputs": [
    {
     "data": {
      "text/plain": [
       "776"
      ]
     },
     "execution_count": 11,
     "metadata": {},
     "output_type": "execute_result"
    }
   ],
   "source": [
    "cek = nltk.word_tokenize(hasil)\n",
    "len(cek)"
   ]
  },
  {
   "cell_type": "code",
   "execution_count": 12,
   "id": "db1b8888",
   "metadata": {},
   "outputs": [
    {
     "name": "stdout",
     "output_type": "stream",
     "text": [
      "776\n",
      "Teks lebih dari 2000 token:\n",
      "['WhatsApp Business is a business-to-consumer communication channel where people can message with businesses. It offers brands a way to connect with customers via WhatsApp messaging. Since its launch in January 2018, millions of businesses have adopted the platform “to support customers, grow their businesses, and serve their communities all over the world,” according to WhatsApp. Here’s', ' what you need to know about WhatsApp Business usage—all of the most important WhatsApp for business statistics and how you can get the most out of the platform. With more than two billion monthly active users across 180 countries, WhatsApp is the most popular messaging app in the world. And its users are chatty: Collectively, WhatsApp users send 100 billion messages per day. Here are the key WhatsApp Business stats you need to know to succeed on the platform. WhatsApp’s dominance is global: It’s the communication platform of choice in EMEA, Latin America, and parts of Asia—and especially huge in emerging markets like India (487 million users) and Brazil (118 million users). For years, messaging apps like WhatsApp have been growing as an attractive cheaper alternative in countries where SMS messaging is expensive. This may help account for the app’s widespread popularity in Asia and Latin America, as demonstrated by the WhatsApp Business stats illustrated in the map above. Additionally, as the world becomes more globalized, WhatsApp and other messaging platforms provide an easy and affordable way to stay connected with friends and relatives abroad — particularly in countries with prominent diasporas, such as the Philippines. Even the Philippine government has gotten in on the trend. At least one Philippine Consulate now operates a WhatsApp hotline in order to better serve their citizens abroad. There are three main things you need to know about WhatsApp Business usage: Since the launch of WhatsApp Business in January 2018, WhatsApp for business statistics show that more than 5 million businesses have started using the platform. It’s no wonder it’s so popular—WhatsApp Business gives brands the ability to create mobile storefronts for their businesses with catalogs and accept secure payments using Facebook Pay. These built-in sales and marketing capabilities make it easy for prospective customers to browse products or services, ask questions, and make a purchase, all without leaving the app. It’s not just business dominating the platform—the public sector is getting on in it too. More and more governments are using WhatsApp to keep their citizens informed about important issues. For instance, in Australia, the government is operating a COVID-19 WhatsApp channel to share important health information. WhatsApp usage is widespread in Europe, Latin America, and parts of Asia. While the app has faced slower adoption in North America, don’t discount it—it’s number four behind Facebook Messenger, Apple Messages and Instagram. As of July 2020, 12% of adults in the United States use WhatsApp, compared to 32% who use Facebook Messenger. But WhatsApp usage does seem to be on the rise — in 2019, 68.1 million U.S. mobile phone users accessed WhatsApp to communicate and some forecasters project this figure to grow to 85.8 million users by 2023. Where your customers are is important, but it also matters who they are. For instance, in the U.K., some studies have indicated that 80 percent of adults aged 18 to 24 use WhatsApp, a much higher proportion than the general population. WhatsApp for business statistics show that similar trends hold true in other nations where WhatsApp is popular: Generally speaking, WhatsApp usage is highest among Millennials and Gen Z. For instance, in India, 49 percent of 18-25 year olds and 35 percent of 26-35 year olds are active WhatsApp users (the share of active users declines with age). In the U.S., it’s most popular among millennials aged 26-35. WhatsApp has risen to messaging dominance around the world. Tap into this market by using WhatsApp Business through Verint Messaging. WhatsApp provides a seamless customer experience for users on the front end, while Verint Messaging adds a powerful customer messaging platform for businesses on the back end. Together, they’re unstoppable. Webinar Webinar Webinar']\n"
     ]
    }
   ],
   "source": [
    "teks = nltk.word_tokenize(hasil)\n",
    "panjang_teks = len(teks)\n",
    "print(panjang_teks)\n",
    "\n",
    "# Memeriksa panjang teks dan menjalankan fungsi yang sesuai\n",
    "if panjang_teks > 700:\n",
    "#     process_long_text(hasil)\n",
    "    print(\"Teks lebih dari 2000 token:\")\n",
    "    panjang_artikel = panjang_teks\n",
    "\n",
    "    # Membagi string menjadi dua bagian\n",
    "    bagian_pertama = hasil[:panjang_artikel // 2]\n",
    "    bagian_kedua = hasil[panjang_artikel // 2:]\n",
    "\n",
    "    # Menyimpan hasil pemecahan kembali dalam variabel 'content'\n",
    "    hasil = [bagian_pertama, bagian_kedua]\n",
    "    prompt = hasil\n",
    "    # Cetak hasilnya\n",
    "    print(prompt)"
   ]
  },
  {
   "cell_type": "code",
   "execution_count": 13,
   "id": "73ba6d9d",
   "metadata": {},
   "outputs": [
    {
     "data": {
      "text/plain": [
       "67"
      ]
     },
     "execution_count": 13,
     "metadata": {},
     "output_type": "execute_result"
    }
   ],
   "source": [
    "total1 = nltk.word_tokenize(bagian_pertama)\n",
    "len(total1)"
   ]
  },
  {
   "cell_type": "code",
   "execution_count": 15,
   "id": "b2728d81",
   "metadata": {},
   "outputs": [
    {
     "name": "stdout",
     "output_type": "stream",
     "text": [
      "WhatsApp Business is a business-to-consumer communication channel where people can message with businesses. It offers brands a way to connect with customers via WhatsApp messaging. Since its launch in January 2018, millions of businesses have adopted the platform “to support customers, grow their businesses, and serve their communities all over the world,” according to WhatsApp. Here’s\n"
     ]
    }
   ],
   "source": [
    "print(bagian_pertama)"
   ]
  },
  {
   "cell_type": "code",
   "execution_count": 14,
   "id": "25b02a30",
   "metadata": {},
   "outputs": [
    {
     "data": {
      "text/plain": [
       "709"
      ]
     },
     "execution_count": 14,
     "metadata": {},
     "output_type": "execute_result"
    }
   ],
   "source": [
    "total2 = nltk.word_tokenize(bagian_kedua)\n",
    "len(total2)"
   ]
  },
  {
   "cell_type": "code",
   "execution_count": 16,
   "id": "33a62dee",
   "metadata": {},
   "outputs": [
    {
     "name": "stdout",
     "output_type": "stream",
     "text": [
      " what you need to know about WhatsApp Business usage—all of the most important WhatsApp for business statistics and how you can get the most out of the platform. With more than two billion monthly active users across 180 countries, WhatsApp is the most popular messaging app in the world. And its users are chatty: Collectively, WhatsApp users send 100 billion messages per day. Here are the key WhatsApp Business stats you need to know to succeed on the platform. WhatsApp’s dominance is global: It’s the communication platform of choice in EMEA, Latin America, and parts of Asia—and especially huge in emerging markets like India (487 million users) and Brazil (118 million users). For years, messaging apps like WhatsApp have been growing as an attractive cheaper alternative in countries where SMS messaging is expensive. This may help account for the app’s widespread popularity in Asia and Latin America, as demonstrated by the WhatsApp Business stats illustrated in the map above. Additionally, as the world becomes more globalized, WhatsApp and other messaging platforms provide an easy and affordable way to stay connected with friends and relatives abroad — particularly in countries with prominent diasporas, such as the Philippines. Even the Philippine government has gotten in on the trend. At least one Philippine Consulate now operates a WhatsApp hotline in order to better serve their citizens abroad. There are three main things you need to know about WhatsApp Business usage: Since the launch of WhatsApp Business in January 2018, WhatsApp for business statistics show that more than 5 million businesses have started using the platform. It’s no wonder it’s so popular—WhatsApp Business gives brands the ability to create mobile storefronts for their businesses with catalogs and accept secure payments using Facebook Pay. These built-in sales and marketing capabilities make it easy for prospective customers to browse products or services, ask questions, and make a purchase, all without leaving the app. It’s not just business dominating the platform—the public sector is getting on in it too. More and more governments are using WhatsApp to keep their citizens informed about important issues. For instance, in Australia, the government is operating a COVID-19 WhatsApp channel to share important health information. WhatsApp usage is widespread in Europe, Latin America, and parts of Asia. While the app has faced slower adoption in North America, don’t discount it—it’s number four behind Facebook Messenger, Apple Messages and Instagram. As of July 2020, 12% of adults in the United States use WhatsApp, compared to 32% who use Facebook Messenger. But WhatsApp usage does seem to be on the rise — in 2019, 68.1 million U.S. mobile phone users accessed WhatsApp to communicate and some forecasters project this figure to grow to 85.8 million users by 2023. Where your customers are is important, but it also matters who they are. For instance, in the U.K., some studies have indicated that 80 percent of adults aged 18 to 24 use WhatsApp, a much higher proportion than the general population. WhatsApp for business statistics show that similar trends hold true in other nations where WhatsApp is popular: Generally speaking, WhatsApp usage is highest among Millennials and Gen Z. For instance, in India, 49 percent of 18-25 year olds and 35 percent of 26-35 year olds are active WhatsApp users (the share of active users declines with age). In the U.S., it’s most popular among millennials aged 26-35. WhatsApp has risen to messaging dominance around the world. Tap into this market by using WhatsApp Business through Verint Messaging. WhatsApp provides a seamless customer experience for users on the front end, while Verint Messaging adds a powerful customer messaging platform for businesses on the back end. Together, they’re unstoppable. Webinar Webinar Webinar\n"
     ]
    }
   ],
   "source": [
    "print(bagian_kedua)"
   ]
  },
  {
   "cell_type": "code",
   "execution_count": 19,
   "id": "8000ed1a",
   "metadata": {},
   "outputs": [
    {
     "name": "stdout",
     "output_type": "stream",
     "text": [
      "Bagian 1:\n",
      "WhatsApp Business is a business-to-consumer communication channel where people can message with businesses. It offers brands a way to connect with customers via WhatsApp messaging. Since its launch in January 2018, millions of businesses have adopted the platform “to support customers, grow their businesses, and serve their communities all over the world,” according to WhatsApp. Here’s what you need to know about WhatsApp Business usage—all of the most important WhatsApp for business statistics and how you can get the most out of the platform. With more than two billion monthly active users across 180 countries, WhatsApp is the most popular messaging app in the world. And its users are chatty: Collectively, WhatsApp users send 100 billion messages per day. Here are the key WhatsApp Business stats you need to know to succeed on the platform. WhatsApp’s dominance is global: It’s the communication platform of choice in EMEA, Latin America, and parts of Asia—and especially huge in emerging markets like India (487 million users) and Brazil (118 million users). For years, messaging apps like WhatsApp have been growing as an attractive cheaper alternative in countries where SMS messaging is expensive. This may help account for the app’s widespread popularity in Asia and Latin America, as demonstrated by the WhatsApp Business stats illustrated in the map above. Additionally, as the world becomes more globalized, WhatsApp and other messaging platforms provide an easy and affordable way to stay connected with friends and relatives abroad — particularly in countries with prominent diasporas, such as the Philippines. Even the Philippine government has gotten in on the trend. At least one Philippine Consulate now operates a WhatsApp hotline in order to better serve their citizens abroad. There are three main things you need to know about WhatsApp Business usage: Since the launch of WhatsApp Business in January 2018, WhatsApp for business statistics show that more than 5 million businesses have started using the platform. It’s no wonder it’s so popular—WhatsApp Business gives brands the ability to create mobile storefronts for their businesses\n",
      "\n",
      "Bagian 2:\n",
      "with catalogs and accept secure payments using Facebook Pay. These built-in sales and marketing capabilities make it easy for prospective customers to browse products or services, ask questions, and make a purchase, all without leaving the app. It’s not just business dominating the platform—the public sector is getting on in it too. More and more governments are using WhatsApp to keep their citizens informed about important issues. For instance, in Australia, the government is operating a COVID-19 WhatsApp channel to share important health information. WhatsApp usage is widespread in Europe, Latin America, and parts of Asia. While the app has faced slower adoption in North America, don’t discount it—it’s number four behind Facebook Messenger, Apple Messages and Instagram. As of July 2020, 12% of adults in the United States use WhatsApp, compared to 32% who use Facebook Messenger. But WhatsApp usage does seem to be on the rise — in 2019, 68.1 million U.S. mobile phone users accessed WhatsApp to communicate and some forecasters project this figure to grow to 85.8 million users by 2023. Where your customers are is important, but it also matters who they are. For instance, in the U.K., some studies have indicated that 80 percent of adults aged 18 to 24 use WhatsApp, a much higher proportion than the general population. WhatsApp for business statistics show that similar trends hold true in other nations where WhatsApp is popular: Generally speaking, WhatsApp usage is highest among Millennials and Gen Z. For instance, in India, 49 percent of 18-25 year olds and 35 percent of 26-35 year olds are active WhatsApp users (the share of active users declines with age). In the U.S., it’s most popular among millennials aged 26-35. WhatsApp has risen to messaging dominance around the world. Tap into this market by using WhatsApp Business through Verint Messaging. WhatsApp provides a seamless customer experience for users on the front end, while Verint Messaging adds a powerful customer messaging platform for businesses on the back end. Together, they’re unstoppable. Webinar Webinar Webinar\n"
     ]
    }
   ],
   "source": [
    "# Memecah string menjadi token\n",
    "token = hasil.split()\n",
    "\n",
    "# Menghitung jumlah token\n",
    "jumlah_token = len(token)\n",
    "\n",
    "# Membagi string menjadi dua bagian dengan jumlah token yang sama\n",
    "bagian1 = \" \".join(token[:jumlah_token // 2])\n",
    "bagian2 = \" \".join(token[jumlah_token // 2:])\n",
    "\n",
    "# Menampilkan dua bagian\n",
    "print(\"Bagian 1:\")\n",
    "print(bagian1)\n",
    "\n",
    "print(\"\\nBagian 2:\")\n",
    "print(bagian2)\n"
   ]
  },
  {
   "cell_type": "code",
   "execution_count": 20,
   "id": "e4594dd6",
   "metadata": {},
   "outputs": [
    {
     "data": {
      "text/plain": [
       "2167"
      ]
     },
     "execution_count": 20,
     "metadata": {},
     "output_type": "execute_result"
    }
   ],
   "source": [
    "len(bagian1)"
   ]
  },
  {
   "cell_type": "code",
   "execution_count": 21,
   "id": "62815b8e",
   "metadata": {},
   "outputs": [
    {
     "data": {
      "text/plain": [
       "2110"
      ]
     },
     "execution_count": 21,
     "metadata": {},
     "output_type": "execute_result"
    }
   ],
   "source": [
    "len(bagian2)"
   ]
  },
  {
   "cell_type": "code",
   "execution_count": 22,
   "id": "6b6d18db",
   "metadata": {},
   "outputs": [
    {
     "data": {
      "text/plain": [
       "672"
      ]
     },
     "execution_count": 22,
     "metadata": {},
     "output_type": "execute_result"
    }
   ],
   "source": [
    "jumlah_token"
   ]
  },
  {
   "cell_type": "code",
   "execution_count": 4,
   "id": "a1c02299",
   "metadata": {},
   "outputs": [],
   "source": [
    "import nltk\n",
    "from nltk.tokenize import word_tokenize\n",
    "def count_tokens(text):\n",
    "    # Menggunakan NLTK tokenizer\n",
    "    tokens = nltk.word_tokenize(text)\n",
    "    return len(tokens)"
   ]
  },
  {
   "cell_type": "code",
   "execution_count": 10,
   "id": "05fb5c63",
   "metadata": {},
   "outputs": [
    {
     "name": "stdout",
     "output_type": "stream",
     "text": [
      "776\n",
      "Teks lebih dari 3000 token:\n"
     ]
    }
   ],
   "source": [
    "# Memecah string menjadi per kata\n",
    "token = hasil.split()\n",
    "\n",
    "# Menghitung panjang teks menggunakan tokenizer\n",
    "panjang_teks = count_tokens(hasil)\n",
    "print(panjang_teks)\n",
    "\n",
    "# Memeriksa panjang teks dan menjalankan fungsi yang sesuai\n",
    "if panjang_teks > 700:\n",
    "#     process_long_text(hasil)\n",
    "    print(\"Teks lebih dari 3000 token:\")\n",
    "    \n",
    "    jumlah_token = len(token)\n",
    "\n",
    "    # Membagi string menjadi dua bagian dengan jumlah token yang sama\n",
    "    bagian1 = \" \".join(token[:jumlah_token // 2])\n",
    "    bagian2 = \" \".join(token[jumlah_token // 2:])\n",
    "\n",
    "    # Menyimpan hasil pemecahan kembali dalam variabel 'content'\n",
    "    hasil = [bagian1, bagian2]\n",
    "    prompt = hasil"
   ]
  },
  {
   "cell_type": "code",
   "execution_count": 15,
   "id": "d4c59d87",
   "metadata": {},
   "outputs": [
    {
     "name": "stdout",
     "output_type": "stream",
     "text": [
      "['WhatsApp Business is a business-to-consumer communication channel where people can message with businesses. It offers brands a way to connect with customers via WhatsApp messaging. Since its launch in January 2018, millions of businesses have adopted the platform “to support customers, grow their businesses, and serve their communities all over the world,” according to WhatsApp. Here’s what you need to know about WhatsApp Business usage—all of the most important WhatsApp for business statistics and how you can get the most out of the platform. With more than two billion monthly active users across 180 countries, WhatsApp is the most popular messaging app in the world. And its users are chatty: Collectively, WhatsApp users send 100 billion messages per day. Here are the key WhatsApp Business stats you need to know to succeed on the platform. WhatsApp’s dominance is global: It’s the communication platform of choice in EMEA, Latin America, and parts of Asia—and especially huge in emerging markets like India (487 million users) and Brazil (118 million users). For years, messaging apps like WhatsApp have been growing as an attractive cheaper alternative in countries where SMS messaging is expensive. This may help account for the app’s widespread popularity in Asia and Latin America, as demonstrated by the WhatsApp Business stats illustrated in the map above. Additionally, as the world becomes more globalized, WhatsApp and other messaging platforms provide an easy and affordable way to stay connected with friends and relatives abroad — particularly in countries with prominent diasporas, such as the Philippines. Even the Philippine government has gotten in on the trend. At least one Philippine Consulate now operates a WhatsApp hotline in order to better serve their citizens abroad. There are three main things you need to know about WhatsApp Business usage: Since the launch of WhatsApp Business in January 2018, WhatsApp for business statistics show that more than 5 million businesses have started using the platform. It’s no wonder it’s so popular—WhatsApp Business gives brands the ability to create mobile storefronts for their businesses', 'with catalogs and accept secure payments using Facebook Pay. These built-in sales and marketing capabilities make it easy for prospective customers to browse products or services, ask questions, and make a purchase, all without leaving the app. It’s not just business dominating the platform—the public sector is getting on in it too. More and more governments are using WhatsApp to keep their citizens informed about important issues. For instance, in Australia, the government is operating a COVID-19 WhatsApp channel to share important health information. WhatsApp usage is widespread in Europe, Latin America, and parts of Asia. While the app has faced slower adoption in North America, don’t discount it—it’s number four behind Facebook Messenger, Apple Messages and Instagram. As of July 2020, 12% of adults in the United States use WhatsApp, compared to 32% who use Facebook Messenger. But WhatsApp usage does seem to be on the rise — in 2019, 68.1 million U.S. mobile phone users accessed WhatsApp to communicate and some forecasters project this figure to grow to 85.8 million users by 2023. Where your customers are is important, but it also matters who they are. For instance, in the U.K., some studies have indicated that 80 percent of adults aged 18 to 24 use WhatsApp, a much higher proportion than the general population. WhatsApp for business statistics show that similar trends hold true in other nations where WhatsApp is popular: Generally speaking, WhatsApp usage is highest among Millennials and Gen Z. For instance, in India, 49 percent of 18-25 year olds and 35 percent of 26-35 year olds are active WhatsApp users (the share of active users declines with age). In the U.S., it’s most popular among millennials aged 26-35. WhatsApp has risen to messaging dominance around the world. Tap into this market by using WhatsApp Business through Verint Messaging. WhatsApp provides a seamless customer experience for users on the front end, while Verint Messaging adds a powerful customer messaging platform for businesses on the back end. Together, they’re unstoppable. Webinar Webinar Webinar']\n"
     ]
    }
   ],
   "source": [
    "print(prompt)"
   ]
  },
  {
   "cell_type": "code",
   "execution_count": 11,
   "id": "4c14f3cd",
   "metadata": {},
   "outputs": [
    {
     "name": "stdout",
     "output_type": "stream",
     "text": [
      "WhatsApp Business is a business-to-consumer communication channel where people can message with businesses. It offers brands a way to connect with customers via WhatsApp messaging. Since its launch in January 2018, millions of businesses have adopted the platform “to support customers, grow their businesses, and serve their communities all over the world,” according to WhatsApp. Here’s what you need to know about WhatsApp Business usage—all of the most important WhatsApp for business statistics and how you can get the most out of the platform. With more than two billion monthly active users across 180 countries, WhatsApp is the most popular messaging app in the world. And its users are chatty: Collectively, WhatsApp users send 100 billion messages per day. Here are the key WhatsApp Business stats you need to know to succeed on the platform. WhatsApp’s dominance is global: It’s the communication platform of choice in EMEA, Latin America, and parts of Asia—and especially huge in emerging markets like India (487 million users) and Brazil (118 million users). For years, messaging apps like WhatsApp have been growing as an attractive cheaper alternative in countries where SMS messaging is expensive. This may help account for the app’s widespread popularity in Asia and Latin America, as demonstrated by the WhatsApp Business stats illustrated in the map above. Additionally, as the world becomes more globalized, WhatsApp and other messaging platforms provide an easy and affordable way to stay connected with friends and relatives abroad — particularly in countries with prominent diasporas, such as the Philippines. Even the Philippine government has gotten in on the trend. At least one Philippine Consulate now operates a WhatsApp hotline in order to better serve their citizens abroad. There are three main things you need to know about WhatsApp Business usage: Since the launch of WhatsApp Business in January 2018, WhatsApp for business statistics show that more than 5 million businesses have started using the platform. It’s no wonder it’s so popular—WhatsApp Business gives brands the ability to create mobile storefronts for their businesses\n"
     ]
    }
   ],
   "source": [
    "print(bagian1)"
   ]
  },
  {
   "cell_type": "code",
   "execution_count": 12,
   "id": "a6175e0d",
   "metadata": {},
   "outputs": [
    {
     "name": "stdout",
     "output_type": "stream",
     "text": [
      "with catalogs and accept secure payments using Facebook Pay. These built-in sales and marketing capabilities make it easy for prospective customers to browse products or services, ask questions, and make a purchase, all without leaving the app. It’s not just business dominating the platform—the public sector is getting on in it too. More and more governments are using WhatsApp to keep their citizens informed about important issues. For instance, in Australia, the government is operating a COVID-19 WhatsApp channel to share important health information. WhatsApp usage is widespread in Europe, Latin America, and parts of Asia. While the app has faced slower adoption in North America, don’t discount it—it’s number four behind Facebook Messenger, Apple Messages and Instagram. As of July 2020, 12% of adults in the United States use WhatsApp, compared to 32% who use Facebook Messenger. But WhatsApp usage does seem to be on the rise — in 2019, 68.1 million U.S. mobile phone users accessed WhatsApp to communicate and some forecasters project this figure to grow to 85.8 million users by 2023. Where your customers are is important, but it also matters who they are. For instance, in the U.K., some studies have indicated that 80 percent of adults aged 18 to 24 use WhatsApp, a much higher proportion than the general population. WhatsApp for business statistics show that similar trends hold true in other nations where WhatsApp is popular: Generally speaking, WhatsApp usage is highest among Millennials and Gen Z. For instance, in India, 49 percent of 18-25 year olds and 35 percent of 26-35 year olds are active WhatsApp users (the share of active users declines with age). In the U.S., it’s most popular among millennials aged 26-35. WhatsApp has risen to messaging dominance around the world. Tap into this market by using WhatsApp Business through Verint Messaging. WhatsApp provides a seamless customer experience for users on the front end, while Verint Messaging adds a powerful customer messaging platform for businesses on the back end. Together, they’re unstoppable. Webinar Webinar Webinar\n"
     ]
    }
   ],
   "source": [
    "print(bagian2)"
   ]
  },
  {
   "cell_type": "code",
   "execution_count": 16,
   "id": "9a9669c5",
   "metadata": {},
   "outputs": [],
   "source": [
    "import openai\n",
    "openai.api_type = \"azure\"\n",
    "openai.api_version = \"2023-05-15\" \n",
    "openai.api_base = \"https://cog-openai-prod-002.openai.azure.com/\"  \n",
    "openai.api_key = 'a21fd07e964e403baa7d242572598c60'"
   ]
  },
  {
   "cell_type": "code",
   "execution_count": 17,
   "id": "2d586908",
   "metadata": {},
   "outputs": [
    {
     "name": "stdout",
     "output_type": "stream",
     "text": [
      "WhatsApp Business is a business-to-consumer communication channel where people can message with businesses. It offers brands a way to connect with customers via WhatsApp messaging. Since its launch in January 2018, millions of businesses have adopted the platform “to support customers, grow their businesses, and serve their communities all over the world,” according to WhatsApp. Here’s what you need to know about WhatsApp Business usage—all of the most important WhatsApp for business statistics and how you can get the most out of the platform. With more than two billion monthly active users across 180 countries, WhatsApp is the most popular messaging app in the world. And its users are chatty: Collectively, WhatsApp users send 100 billion messages per day. Here are the key WhatsApp Business stats you need to know to succeed on the platform. WhatsApp’s dominance is global: It’s the communication platform of choice in EMEA, Latin America, and parts of Asia—and especially huge in emerging markets like India (487 million users) and Brazil (118 million users). For years, messaging apps like WhatsApp have been growing as an attractive cheaper alternative in countries where SMS messaging is expensive. This may help account for the app’s widespread popularity in Asia and Latin America, as demonstrated by the WhatsApp Business stats illustrated in the map above. Additionally, as the world becomes more globalized, WhatsApp and other messaging platforms provide an easy and affordable way to stay connected with friends and relatives abroad — particularly in countries with prominent diasporas, such as the Philippines. Even the Philippine government has gotten in on the trend. At least one Philippine Consulate now operates a WhatsApp hotline in order to better serve their citizens abroad. There are three main things you need to know about WhatsApp Business usage: Since the launch of WhatsApp Business in January 2018, WhatsApp for business statistics show that more than 5 million businesses have started using the platform. It’s no wonder it’s so popular—WhatsApp Business gives brands the ability to create mobile storefronts for their businesses\n",
      "=============\n",
      "with catalogs and accept secure payments using Facebook Pay. These built-in sales and marketing capabilities make it easy for prospective customers to browse products or services, ask questions, and make a purchase, all without leaving the app. It’s not just business dominating the platform—the public sector is getting on in it too. More and more governments are using WhatsApp to keep their citizens informed about important issues. For instance, in Australia, the government is operating a COVID-19 WhatsApp channel to share important health information. WhatsApp usage is widespread in Europe, Latin America, and parts of Asia. While the app has faced slower adoption in North America, don’t discount it—it’s number four behind Facebook Messenger, Apple Messages and Instagram. As of July 2020, 12% of adults in the United States use WhatsApp, compared to 32% who use Facebook Messenger. But WhatsApp usage does seem to be on the rise — in 2019, 68.1 million U.S. mobile phone users accessed WhatsApp to communicate and some forecasters project this figure to grow to 85.8 million users by 2023. Where your customers are is important, but it also matters who they are. For instance, in the U.K., some studies have indicated that 80 percent of adults aged 18 to 24 use WhatsApp, a much higher proportion than the general population. WhatsApp for business statistics show that similar trends hold true in other nations where WhatsApp is popular: Generally speaking, WhatsApp usage is highest among Millennials and Gen Z. For instance, in India, 49 percent of 18-25 year olds and 35 percent of 26-35 year olds are active WhatsApp users (the share of active users declines with age). In the U.S., it’s most popular among millennials aged 26-35. WhatsApp has risen to messaging dominance around the world. Tap into this market by using WhatsApp Business through Verint Messaging. WhatsApp provides a seamless customer experience for users on the front end, while Verint Messaging adds a powerful customer messaging platform for businesses on the back end. Together, they’re unstoppable. Webinar Webinar Webinar\n",
      "=============\n"
     ]
    }
   ],
   "source": [
    "all_konten1 = []\n",
    "for konten1 in prompt :\n",
    "    print(konten1)\n",
    "    print(\"=============\")\n",
    "\n",
    "    response = openai.ChatCompletion.create(\n",
    "        engine =\"gpt-35-turbo\",\n",
    "        messages=[\n",
    "            {\"role\": \"system\", \"content\": \"Kamu adalah mesin penerjemah bahasa Inggris ke bahasa Indonesia yang handal, kamu juga mampu menulis ulang artikel sekaligus melakukan SEO Optimized dengan luar biasa. jika artikel yang diberikan lebih dari 5000 kata maka kamu harus membuat artikelnya menjadi lebih padat dengan minimal output artikel 3000 kata dan maksimal 5000 kata sehingga lebih padat dan jelas!\"},\n",
    "            {\"role\": \"user\", \"content\": \"OUTPUT YANG KAMU BERI TIDAK BOLEH KURANG DARI PANJANG ARTIKEL AWAL, Lakukan SEO Optimized dan terjemahkan ke dalam bahasa Indonesia. Berikut artikel yang harus kamu eksekusi: \\n\" + konten1}        ],\n",
    "        temperature = 0\n",
    "    )\n",
    "    if response[\"choices\"][0][\"finish_reason\"] == \"content_filter\":\n",
    "        saveurls(link)\n",
    "        print(\"gagal konten terfilter\")\n",
    "        full_scraping()\n",
    "    else :\n",
    "        translate = response['choices'][0]['message']['content']\n",
    "        all_konten1.append(translate)"
   ]
  },
  {
   "cell_type": "code",
   "execution_count": 21,
   "id": "2d29d9e4",
   "metadata": {},
   "outputs": [
    {
     "data": {
      "text/plain": [
       "['WhatsApp Business adalah saluran komunikasi bisnis-ke-konsumen di mana orang dapat mengirim pesan dengan bisnis. Ini menawarkan merek cara untuk terhubung dengan pelanggan melalui pesan WhatsApp. Sejak diluncurkan pada Januari 2018, jutaan bisnis telah mengadopsi platform ini \"untuk mendukung pelanggan, mengembangkan bisnis mereka, dan melayani komunitas mereka di seluruh dunia,\" menurut WhatsApp. Berikut ini yang perlu Anda ketahui tentang penggunaan WhatsApp Business - semua statistik WhatsApp for business yang paling penting dan bagaimana Anda dapat memanfaatkan platform ini. Dengan lebih dari dua miliar pengguna aktif bulanan di 180 negara, WhatsApp adalah aplikasi pesan paling populer di dunia. Dan penggunanya aktif: Secara kolektif, pengguna WhatsApp mengirimkan 100 miliar pesan per hari. Berikut adalah statistik WhatsApp Business kunci yang perlu Anda ketahui untuk berhasil di platform ini. Dominasi WhatsApp adalah global: Ini adalah platform komunikasi pilihan di EMEA, Amerika Latin, dan sebagian Asia - dan terutama populer di pasar-pasar berkembang seperti India (487 juta pengguna) dan Brasil (118 juta pengguna). Selama bertahun-tahun, aplikasi pesan seperti WhatsApp terus tumbuh sebagai alternatif yang lebih murah di negara-negara di mana pengiriman pesan SMS mahal. Hal ini mungkin menjelaskan popularitas luas aplikasi ini di Asia dan Amerika Latin, seperti yang ditunjukkan oleh statistik WhatsApp Business yang diilustrasikan dalam peta di atas. Selain itu, seiring dunia semakin terglobalisasi, WhatsApp dan platform pesan lainnya menyediakan cara yang mudah dan terjangkau untuk tetap terhubung dengan teman dan kerabat di luar negeri - terutama di negara-negara dengan diaspora yang menonjol, seperti Filipina. Bahkan pemerintah Filipina pun ikut serta dalam tren ini. Setidaknya satu Konsulat Filipina sekarang mengoperasikan hotline WhatsApp untuk lebih baik melayani warganya di luar negeri. Ada tiga hal utama yang perlu Anda ketahui tentang penggunaan WhatsApp Business: Sejak diluncurkan pada Januari 2018, statistik WhatsApp for business menunjukkan bahwa lebih dari 5 juta bisnis telah mulai menggunakan platform ini. Tidak heran jika begitu populer - WhatsApp Business memberikan merek kemampuan untuk membuat toko online mobile untuk bisnis mereka.',\n",
       " 'WhatsApp Business: Mengoptimalkan Bisnis Anda dengan Aplikasi Pesan Populer\\n\\nWhatsApp telah menjadi salah satu aplikasi pesan paling populer di dunia, dengan lebih dari 2 miliar pengguna aktif bulanan. Namun, tidak hanya digunakan untuk komunikasi pribadi, WhatsApp juga menawarkan solusi bisnis yang kuat melalui WhatsApp Business.\\n\\nWhatsApp Business adalah versi khusus dari WhatsApp yang dirancang khusus untuk kebutuhan bisnis. Dengan menggunakan WhatsApp Business, Anda dapat memperluas jangkauan bisnis Anda, berinteraksi dengan pelanggan, dan meningkatkan penjualan Anda.\\n\\nSalah satu fitur utama WhatsApp Business adalah profil bisnis yang dapat Anda buat. Dalam profil bisnis, Anda dapat menyertakan informasi penting tentang bisnis Anda, seperti alamat, jam operasional, dan deskripsi singkat. Ini membantu pelanggan potensial mendapatkan informasi yang mereka butuhkan dengan mudah.\\n\\nSelain itu, WhatsApp Business juga menyediakan fitur katalog produk. Dengan fitur ini, Anda dapat membuat katalog produk atau layanan lengkap dengan gambar, deskripsi, dan harga. Pelanggan dapat dengan mudah menjelajahi produk atau layanan Anda, mengajukan pertanyaan, dan melakukan pembelian langsung melalui aplikasi WhatsApp. Ini membuat proses pembelian menjadi lebih mudah dan nyaman bagi pelanggan.\\n\\nWhatsApp Business juga menawarkan kemampuan untuk mengirim pesan otomatis. Anda dapat mengatur pesan selamat datang untuk pelanggan baru, pesan balasan otomatis untuk pertanyaan umum, dan pesan terjadwal untuk mengingatkan pelanggan tentang penawaran atau acara khusus. Ini membantu Anda menjaga komunikasi yang efisien dengan pelanggan Anda, bahkan ketika Anda tidak sedang online.\\n\\nSelain itu, WhatsApp Business juga menyediakan fitur analitik yang berguna. Anda dapat melihat statistik tentang pesan yang dikirim, diterima, dan dibaca oleh pelanggan. Ini membantu Anda memahami seberapa efektif kampanye pemasaran Anda dan memperbaiki strategi Anda jika diperlukan.\\n\\nWhatsApp Business juga terintegrasi dengan Facebook Pay, yang memungkinkan pelanggan untuk melakukan pembayaran yang aman langsung melalui aplikasi WhatsApp. Ini membuat proses pembelian menjadi lebih mudah dan cepat bagi pelanggan.\\n\\nTidak hanya bisnis yang mendominasi platform ini, sektor publik juga ikut serta. Semakin banyak pemerintah yang menggunakan WhatsApp untuk menjaga warganya tetap terinformasi tentang isu-isu penting. Misalnya, di Australia, pemerintah mengoperasikan saluran WhatsApp COVID-19 untuk berbagi informasi kesehatan penting. Penggunaan WhatsApp sangat luas di Eropa, Amerika Latin, dan sebagian Asia. Meskipun aplikasi ini menghadapi adopsi yang lebih lambat di Amerika Utara, jangan menganggap remeh - WhatsApp berada di peringkat keempat setelah Facebook Messenger, Apple Messages, dan Instagram. Pada bulan Juli 2020, 12% orang dewasa di Amerika Serikat menggunakan WhatsApp, dibandingkan dengan 32% yang menggunakan Facebook Messenger. Namun, penggunaan WhatsApp tampaknya meningkat - pada tahun 2019, 68,1 juta pengguna ponsel di AS mengakses WhatsApp untuk berkomunikasi dan beberapa peramal memproyeksikan angka ini akan tumbuh menjadi 85,8 juta pengguna pada tahun 2023.\\n\\nDi mana pelanggan Anda berada adalah penting, tetapi juga penting siapa mereka. Misalnya, di Inggris, beberapa studi telah menunjukkan bahwa 80 persen orang dewasa berusia 18 hingga 24 tahun menggunakan WhatsApp, proporsi yang jauh lebih tinggi daripada populasi umum. Statistik WhatsApp untuk bisnis menunjukkan bahwa tren serupa berlaku di negara-negara lain di mana WhatsApp populer: Secara umum, penggunaan WhatsApp tertinggi di antara Generasi Milenial dan Gen Z. Misalnya, di India, 49 persen orang berusia 18-25 tahun dan 35 persen orang berusia 26-35 tahun adalah pengguna aktif WhatsApp (jumlah pengguna aktif menurun seiring bertambahnya usia). Di Amerika Serikat, WhatsApp paling populer di kalangan milenial berusia 26-35 tahun.\\n\\nWhatsApp telah menjadi dominan dalam pesan di seluruh dunia. Manfaatkan pasar ini dengan menggunakan WhatsApp Business melalui Verint Messaging. WhatsApp memberikan pengalaman pelanggan yang mulus bagi pengguna di depan, sementara Verint Messaging menambahkan platform pesan pelanggan yang kuat bagi bisnis di belakang. Bersama-sama, mereka tak terhentikan.\\n\\nWebinar Webinar Webinar']"
      ]
     },
     "execution_count": 21,
     "metadata": {},
     "output_type": "execute_result"
    }
   ],
   "source": [
    "all_konten1"
   ]
  },
  {
   "cell_type": "code",
   "execution_count": 26,
   "id": "ce8b44cb",
   "metadata": {},
   "outputs": [
    {
     "data": {
      "text/plain": [
       "'WhatsApp Business adalah saluran komunikasi bisnis-ke-konsumen di mana orang dapat mengirim pesan dengan bisnis. Ini menawarkan merek cara untuk terhubung dengan pelanggan melalui pesan WhatsApp. Sejak diluncurkan pada Januari 2018, jutaan bisnis telah mengadopsi platform ini \"untuk mendukung pelanggan, mengembangkan bisnis mereka, dan melayani komunitas mereka di seluruh dunia,\" menurut WhatsApp. Berikut ini yang perlu Anda ketahui tentang penggunaan WhatsApp Business - semua statistik WhatsApp for business yang paling penting dan bagaimana Anda dapat memanfaatkan platform ini. Dengan lebih dari dua miliar pengguna aktif bulanan di 180 negara, WhatsApp adalah aplikasi pesan paling populer di dunia. Dan penggunanya aktif: Secara kolektif, pengguna WhatsApp mengirimkan 100 miliar pesan per hari. Berikut adalah statistik WhatsApp Business kunci yang perlu Anda ketahui untuk berhasil di platform ini. Dominasi WhatsApp adalah global: Ini adalah platform komunikasi pilihan di EMEA, Amerika Latin, dan sebagian Asia - dan terutama populer di pasar-pasar berkembang seperti India (487 juta pengguna) dan Brasil (118 juta pengguna). Selama bertahun-tahun, aplikasi pesan seperti WhatsApp terus tumbuh sebagai alternatif yang lebih murah di negara-negara di mana pengiriman pesan SMS mahal. Hal ini mungkin menjelaskan popularitas luas aplikasi ini di Asia dan Amerika Latin, seperti yang ditunjukkan oleh statistik WhatsApp Business yang diilustrasikan dalam peta di atas. Selain itu, seiring dunia semakin terglobalisasi, WhatsApp dan platform pesan lainnya menyediakan cara yang mudah dan terjangkau untuk tetap terhubung dengan teman dan kerabat di luar negeri - terutama di negara-negara dengan diaspora yang menonjol, seperti Filipina. Bahkan pemerintah Filipina pun ikut serta dalam tren ini. Setidaknya satu Konsulat Filipina sekarang mengoperasikan hotline WhatsApp untuk lebih baik melayani warganya di luar negeri. Ada tiga hal utama yang perlu Anda ketahui tentang penggunaan WhatsApp Business: Sejak diluncurkan pada Januari 2018, statistik WhatsApp for business menunjukkan bahwa lebih dari 5 juta bisnis telah mulai menggunakan platform ini. Tidak heran jika begitu populer - WhatsApp Business memberikan merek kemampuan untuk membuat toko online mobile untuk bisnis mereka.'"
      ]
     },
     "execution_count": 26,
     "metadata": {},
     "output_type": "execute_result"
    }
   ],
   "source": [
    "all_konten1[0]"
   ]
  },
  {
   "cell_type": "code",
   "execution_count": 23,
   "id": "8050e5b6",
   "metadata": {},
   "outputs": [],
   "source": [
    "konten2 = \" \".join(all_konten1)"
   ]
  },
  {
   "cell_type": "code",
   "execution_count": 25,
   "id": "d40d1d69",
   "metadata": {},
   "outputs": [
    {
     "name": "stdout",
     "output_type": "stream",
     "text": [
      "WhatsApp Business adalah saluran komunikasi bisnis-ke-konsumen di mana orang dapat mengirim pesan dengan bisnis. Ini menawarkan merek cara untuk terhubung dengan pelanggan melalui pesan WhatsApp. Sejak diluncurkan pada Januari 2018, jutaan bisnis telah mengadopsi platform ini \"untuk mendukung pelanggan, mengembangkan bisnis mereka, dan melayani komunitas mereka di seluruh dunia,\" menurut WhatsApp. Berikut ini yang perlu Anda ketahui tentang penggunaan WhatsApp Business - semua statistik WhatsApp for business yang paling penting dan bagaimana Anda dapat memanfaatkan platform ini. Dengan lebih dari dua miliar pengguna aktif bulanan di 180 negara, WhatsApp adalah aplikasi pesan paling populer di dunia. Dan penggunanya aktif: Secara kolektif, pengguna WhatsApp mengirimkan 100 miliar pesan per hari. Berikut adalah statistik WhatsApp Business kunci yang perlu Anda ketahui untuk berhasil di platform ini. Dominasi WhatsApp adalah global: Ini adalah platform komunikasi pilihan di EMEA, Amerika Latin, dan sebagian Asia - dan terutama populer di pasar-pasar berkembang seperti India (487 juta pengguna) dan Brasil (118 juta pengguna). Selama bertahun-tahun, aplikasi pesan seperti WhatsApp terus tumbuh sebagai alternatif yang lebih murah di negara-negara di mana pengiriman pesan SMS mahal. Hal ini mungkin menjelaskan popularitas luas aplikasi ini di Asia dan Amerika Latin, seperti yang ditunjukkan oleh statistik WhatsApp Business yang diilustrasikan dalam peta di atas. Selain itu, seiring dunia semakin terglobalisasi, WhatsApp dan platform pesan lainnya menyediakan cara yang mudah dan terjangkau untuk tetap terhubung dengan teman dan kerabat di luar negeri - terutama di negara-negara dengan diaspora yang menonjol, seperti Filipina. Bahkan pemerintah Filipina pun ikut serta dalam tren ini. Setidaknya satu Konsulat Filipina sekarang mengoperasikan hotline WhatsApp untuk lebih baik melayani warganya di luar negeri. Ada tiga hal utama yang perlu Anda ketahui tentang penggunaan WhatsApp Business: Sejak diluncurkan pada Januari 2018, statistik WhatsApp for business menunjukkan bahwa lebih dari 5 juta bisnis telah mulai menggunakan platform ini. Tidak heran jika begitu populer - WhatsApp Business memberikan merek kemampuan untuk membuat toko online mobile untuk bisnis mereka. WhatsApp Business: Mengoptimalkan Bisnis Anda dengan Aplikasi Pesan Populer\n",
      "\n",
      "WhatsApp telah menjadi salah satu aplikasi pesan paling populer di dunia, dengan lebih dari 2 miliar pengguna aktif bulanan. Namun, tidak hanya digunakan untuk komunikasi pribadi, WhatsApp juga menawarkan solusi bisnis yang kuat melalui WhatsApp Business.\n",
      "\n",
      "WhatsApp Business adalah versi khusus dari WhatsApp yang dirancang khusus untuk kebutuhan bisnis. Dengan menggunakan WhatsApp Business, Anda dapat memperluas jangkauan bisnis Anda, berinteraksi dengan pelanggan, dan meningkatkan penjualan Anda.\n",
      "\n",
      "Salah satu fitur utama WhatsApp Business adalah profil bisnis yang dapat Anda buat. Dalam profil bisnis, Anda dapat menyertakan informasi penting tentang bisnis Anda, seperti alamat, jam operasional, dan deskripsi singkat. Ini membantu pelanggan potensial mendapatkan informasi yang mereka butuhkan dengan mudah.\n",
      "\n",
      "Selain itu, WhatsApp Business juga menyediakan fitur katalog produk. Dengan fitur ini, Anda dapat membuat katalog produk atau layanan lengkap dengan gambar, deskripsi, dan harga. Pelanggan dapat dengan mudah menjelajahi produk atau layanan Anda, mengajukan pertanyaan, dan melakukan pembelian langsung melalui aplikasi WhatsApp. Ini membuat proses pembelian menjadi lebih mudah dan nyaman bagi pelanggan.\n",
      "\n",
      "WhatsApp Business juga menawarkan kemampuan untuk mengirim pesan otomatis. Anda dapat mengatur pesan selamat datang untuk pelanggan baru, pesan balasan otomatis untuk pertanyaan umum, dan pesan terjadwal untuk mengingatkan pelanggan tentang penawaran atau acara khusus. Ini membantu Anda menjaga komunikasi yang efisien dengan pelanggan Anda, bahkan ketika Anda tidak sedang online.\n",
      "\n",
      "Selain itu, WhatsApp Business juga menyediakan fitur analitik yang berguna. Anda dapat melihat statistik tentang pesan yang dikirim, diterima, dan dibaca oleh pelanggan. Ini membantu Anda memahami seberapa efektif kampanye pemasaran Anda dan memperbaiki strategi Anda jika diperlukan.\n",
      "\n",
      "WhatsApp Business juga terintegrasi dengan Facebook Pay, yang memungkinkan pelanggan untuk melakukan pembayaran yang aman langsung melalui aplikasi WhatsApp. Ini membuat proses pembelian menjadi lebih mudah dan cepat bagi pelanggan.\n",
      "\n",
      "Tidak hanya bisnis yang mendominasi platform ini, sektor publik juga ikut serta. Semakin banyak pemerintah yang menggunakan WhatsApp untuk menjaga warganya tetap terinformasi tentang isu-isu penting. Misalnya, di Australia, pemerintah mengoperasikan saluran WhatsApp COVID-19 untuk berbagi informasi kesehatan penting. Penggunaan WhatsApp sangat luas di Eropa, Amerika Latin, dan sebagian Asia. Meskipun aplikasi ini menghadapi adopsi yang lebih lambat di Amerika Utara, jangan menganggap remeh - WhatsApp berada di peringkat keempat setelah Facebook Messenger, Apple Messages, dan Instagram. Pada bulan Juli 2020, 12% orang dewasa di Amerika Serikat menggunakan WhatsApp, dibandingkan dengan 32% yang menggunakan Facebook Messenger. Namun, penggunaan WhatsApp tampaknya meningkat - pada tahun 2019, 68,1 juta pengguna ponsel di AS mengakses WhatsApp untuk berkomunikasi dan beberapa peramal memproyeksikan angka ini akan tumbuh menjadi 85,8 juta pengguna pada tahun 2023.\n",
      "\n",
      "Di mana pelanggan Anda berada adalah penting, tetapi juga penting siapa mereka. Misalnya, di Inggris, beberapa studi telah menunjukkan bahwa 80 persen orang dewasa berusia 18 hingga 24 tahun menggunakan WhatsApp, proporsi yang jauh lebih tinggi daripada populasi umum. Statistik WhatsApp untuk bisnis menunjukkan bahwa tren serupa berlaku di negara-negara lain di mana WhatsApp populer: Secara umum, penggunaan WhatsApp tertinggi di antara Generasi Milenial dan Gen Z. Misalnya, di India, 49 persen orang berusia 18-25 tahun dan 35 persen orang berusia 26-35 tahun adalah pengguna aktif WhatsApp (jumlah pengguna aktif menurun seiring bertambahnya usia). Di Amerika Serikat, WhatsApp paling populer di kalangan milenial berusia 26-35 tahun.\n",
      "\n",
      "WhatsApp telah menjadi dominan dalam pesan di seluruh dunia. Manfaatkan pasar ini dengan menggunakan WhatsApp Business melalui Verint Messaging. WhatsApp memberikan pengalaman pelanggan yang mulus bagi pengguna di depan, sementara Verint Messaging menambahkan platform pesan pelanggan yang kuat bagi bisnis di belakang. Bersama-sama, mereka tak terhentikan.\n"
     ]
    }
   ],
   "source": [
    "response = openai.ChatCompletion.create(\n",
    "    engine =\"gpt-35-turbo\",\n",
    "    messages=[\n",
    "        {\"role\": \"system\", \"content\": \"Kamu adalah mesin pengedit artikel yang handal, kamu mampu memisahkan artikel dari kalimat yang tidak diperlukan, seperti : penulis, author, footer, catatan kaki, sumber, promosi, iklan, dan lain-lain.\"},\n",
    "        {\"role\": \"user\", \"content\": \"lakukan penyuntingan pada artikel berikut : \\n\" + konten2 + \"\\n ambil isi artikel saja dan hapus kalimat yang tidak diperlukan, gunakanlah bahasa indonesia yang benar\"}        ],\n",
    "    temperature = 0\n",
    ")\n",
    "if response[\"choices\"][0][\"finish_reason\"] == \"content_filter\":\n",
    "    saveurls(link)\n",
    "    print(\"gagal konten terfilter\")\n",
    "    full_scraping()\n",
    "else :\n",
    "    konten3 = response['choices'][0]['message']['content']\n",
    "    print(konten3)"
   ]
  },
  {
   "cell_type": "code",
   "execution_count": 31,
   "id": "23a5c153",
   "metadata": {},
   "outputs": [
    {
     "name": "stdout",
     "output_type": "stream",
     "text": [
      "test\n",
      "---\n"
     ]
    }
   ],
   "source": [
    "print(\"test\")\n",
    "print(f\"---\")"
   ]
  }
 ],
 "metadata": {
  "kernelspec": {
   "display_name": "Python 3 (ipykernel)",
   "language": "python",
   "name": "python3"
  },
  "language_info": {
   "codemirror_mode": {
    "name": "ipython",
    "version": 3
   },
   "file_extension": ".py",
   "mimetype": "text/x-python",
   "name": "python",
   "nbconvert_exporter": "python",
   "pygments_lexer": "ipython3",
   "version": "3.9.12"
  }
 },
 "nbformat": 4,
 "nbformat_minor": 5
}
